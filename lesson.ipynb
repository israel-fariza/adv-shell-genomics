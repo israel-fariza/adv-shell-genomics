{
 "cells": [
  {
   "cell_type": "markdown",
   "metadata": {
    "slideshow": {
     "slide_type": "slide"
    }
   },
   "source": [
    "# Advanced Unix shell for genomics\n",
    "\n",
    "This lesson will introduce some advanced concepts in the Unix shell. It will do so by guiding you through the creation of a simple RNA-seq data analysis pipeline.\n",
    "\n",
    "You will be working with the Escherichia coli reference genome. You will remove the sequencing adapters, align some RNA-seq reads to it, and run some quality control checks.\n",
    "\n",
    "You will begin by analysing the data one command at a time, and as new concepts are introduced you will make the pipeline increasingly automated.\n",
    "\n",
    "Lesson formats:\n",
    "- [git repository](https://github.com/bioinfo-lessons/adv-shell-genomics)\n",
    "- [slides](https://bioinfo-lessons.github.io/adv-shell-genomics/)\n",
    "- [HTML](https://bioinfo-lessons.github.io/adv-shell-genomics/notebook.html)"
   ]
  },
  {
   "cell_type": "markdown",
   "metadata": {
    "slideshow": {
     "slide_type": "slide"
    }
   },
   "source": [
    "## Preparing the workspace\n",
    "\n",
    "In any computational project, organisation of resources is essential.\n",
    "\n",
    "In this lesson, the software you use will be managed with conda, leveraging the bioconda repository.\n",
    "\n",
    "For storing data resources, including input data, output data, and log files, we will create a few directories to keep everything tidy\n",
    "\n",
    "**NOTE**: it is highly recommended that you create a new conda environment for this lesson. The environment name that this demo uses is \"adv-shell\". You can choose another one if you like."
   ]
  },
  {
   "cell_type": "markdown",
   "metadata": {
    "slideshow": {
     "slide_type": "subslide"
    }
   },
   "source": [
    "Create our working directory"
   ]
  },
  {
   "cell_type": "code",
   "execution_count": 8,
   "metadata": {},
   "outputs": [
    {
     "name": "stdout",
     "output_type": "stream",
     "text": [
      "300.mzXML  \u001b[0m\u001b[01;34mDownloads\u001b[0m         LICENSE           README.md            \u001b[01;34mtmp\u001b[0m\n",
      "\u001b[01;34madv-shell\u001b[0m  environment.yaml  \u001b[01;34mminiconda3\u001b[0m        samples_missing.csv  \u001b[01;34mZotero\u001b[0m\n",
      "\u001b[01;34mbin\u001b[0m        environment.yml   mozilla.pdf       \u001b[01;34msoftware\u001b[0m\n",
      "\u001b[01;34mDesktop\u001b[0m    \u001b[01;34mfiles\u001b[0m             package-list.txt  \u001b[01;34msrc\u001b[0m\n"
     ]
    }
   ],
   "source": [
    "mkdir -p ~/adv-shell\n",
    "ls ~/"
   ]
  },
  {
   "cell_type": "markdown",
   "metadata": {
    "slideshow": {
     "slide_type": "subslide"
    }
   },
   "source": [
    "Change into our working directory"
   ]
  },
  {
   "cell_type": "code",
   "execution_count": 1,
   "metadata": {},
   "outputs": [
    {
     "name": "stdout",
     "output_type": "stream",
     "text": [
      "/home/tdido/adv-shell\n"
     ]
    }
   ],
   "source": [
    "cd ~/adv-shell\n",
    "pwd"
   ]
  },
  {
   "cell_type": "markdown",
   "metadata": {
    "slideshow": {
     "slide_type": "subslide"
    }
   },
   "source": [
    "Save our working directory in a variable for convenience"
   ]
  },
  {
   "cell_type": "code",
   "execution_count": 2,
   "metadata": {},
   "outputs": [
    {
     "name": "stdout",
     "output_type": "stream",
     "text": [
      "/home/tdido/adv-shell\n"
     ]
    }
   ],
   "source": [
    "export WD=$(pwd)\n",
    "echo $WD"
   ]
  },
  {
   "cell_type": "markdown",
   "metadata": {
    "slideshow": {
     "slide_type": "subslide"
    }
   },
   "source": [
    "Create some base directories for our data"
   ]
  },
  {
   "cell_type": "code",
   "execution_count": 14,
   "metadata": {},
   "outputs": [
    {
     "name": "stdout",
     "output_type": "stream",
     "text": [
      "total 16\n",
      "drwxr-xr-x 2 tdido tdido 4096 Oct 21 11:21 \u001b[0m\u001b[01;34mdata\u001b[0m\n",
      "drwxr-xr-x 2 tdido tdido 4096 Oct 21 11:21 \u001b[01;34mlog\u001b[0m\n",
      "drwxr-xr-x 2 tdido tdido 4096 Oct 21 11:21 \u001b[01;34mout\u001b[0m\n",
      "drwxr-xr-x 2 tdido tdido 4096 Oct 21 11:21 \u001b[01;34mres\u001b[0m\n"
     ]
    }
   ],
   "source": [
    "mkdir data log out res\n",
    "ls -l"
   ]
  },
  {
   "cell_type": "markdown",
   "metadata": {
    "slideshow": {
     "slide_type": "subslide"
    }
   },
   "source": [
    "Let's see what we've done so far"
   ]
  },
  {
   "cell_type": "code",
   "execution_count": 13,
   "metadata": {},
   "outputs": [
    {
     "name": "stdout",
     "output_type": "stream",
     "text": [
      "/home/tdido/adv-shell\n",
      "\u001b[01;34m.\u001b[00m\n",
      "├── \u001b[01;34mdata\u001b[00m\n",
      "├── \u001b[01;34mlog\u001b[00m\n",
      "├── \u001b[01;34mout\u001b[00m\n",
      "└── \u001b[01;34mres\u001b[00m\n",
      "\n",
      "4 directories, 0 files\n"
     ]
    }
   ],
   "source": [
    "pwd\n",
    "tree"
   ]
  },
  {
   "cell_type": "markdown",
   "metadata": {
    "slideshow": {
     "slide_type": "slide"
    }
   },
   "source": [
    "## Obtaining our data\n",
    "\n",
    "We will be working with real, publicly available sequencing data from an E. coli experiment.\n",
    "\n",
    "In this experiment, the researchers over-expressed some DNA-damage handling proteins\n",
    "and want to understand the effect of this change on RNA expression."
   ]
  },
  {
   "cell_type": "markdown",
   "metadata": {
    "slideshow": {
     "slide_type": "subslide"
    }
   },
   "source": [
    "### Downloading the sequencing data\n",
    "\n",
    "We will be analysing some E. coli RNA-seq data, which we will be downloading from the\n",
    "[European Nucleotide Archive](https://www.ebi.ac.uk/ena/).\n",
    "\n",
    "The ID of the experiment that we will use is *PRJEB29500*.\n",
    "\n",
    "You should download both FASTQ (FTP) files for one of the samples. Make sure to place them in\n",
    "your \"data\" directory."
   ]
  },
  {
   "cell_type": "code",
   "execution_count": 70,
   "metadata": {
    "slideshow": {
     "slide_type": "subslide"
    }
   },
   "outputs": [
    {
     "name": "stdout",
     "output_type": "stream",
     "text": [
      "--2019-10-21 13:36:56--  ftp://ftp.sra.ebi.ac.uk/vol1/fastq/ERR286/002/ERR2868172/ERR2868172_1.fastq.gz\n",
      "           => ‘ERR2868172_1.fastq.gz’\n",
      "Resolving ftp.sra.ebi.ac.uk (ftp.sra.ebi.ac.uk)... 193.62.192.7\n",
      "Connecting to ftp.sra.ebi.ac.uk (ftp.sra.ebi.ac.uk)|193.62.192.7|:21... connected.\n",
      "Logging in as anonymous ... Logged in!\n",
      "==> SYST ... done.    ==> PWD ... done.\n",
      "==> TYPE I ... done.  ==> CWD (1) /vol1/fastq/ERR286/002/ERR2868172 ... done.\n",
      "==> SIZE ERR2868172_1.fastq.gz ... 534742978\n",
      "==> PASV ... done.    ==> RETR ERR2868172_1.fastq.gz ... done.\n",
      "Length: 534742978 (510M) (unauthoritative)\n",
      "\n",
      "ERR2868172_1.fastq. 100%[===================>] 509.97M  5.19MB/s    in 69s     \n",
      "\n",
      "2019-10-21 13:38:11 (7.41 MB/s) - ‘ERR2868172_1.fastq.gz’ saved [534742978]\n",
      "\n",
      "--2019-10-21 13:38:11--  ftp://ftp.sra.ebi.ac.uk/vol1/fastq/ERR286/002/ERR2868172/ERR2868172_2.fastq.gz\n",
      "           => ‘ERR2868172_2.fastq.gz’\n",
      "Resolving ftp.sra.ebi.ac.uk (ftp.sra.ebi.ac.uk)... 193.62.192.7\n",
      "Connecting to ftp.sra.ebi.ac.uk (ftp.sra.ebi.ac.uk)|193.62.192.7|:21... connected.\n",
      "Logging in as anonymous ... Logged in!\n",
      "==> SYST ... done.    ==> PWD ... done.\n",
      "==> TYPE I ... done.  ==> CWD (1) /vol1/fastq/ERR286/002/ERR2868172 ... done.\n",
      "==> SIZE ERR2868172_2.fastq.gz ... 565672046\n",
      "==> PASV ... done.    ==> RETR ERR2868172_2.fastq.gz ... done.\n",
      "Length: 565672046 (539M) (unauthoritative)\n",
      "\n",
      "ERR2868172_2.fastq. 100%[===================>] 539.47M  5.90MB/s    in 94s     \n",
      "\n",
      "2019-10-21 13:39:47 (5.71 MB/s) - ‘ERR2868172_2.fastq.gz’ saved [565672046]\n",
      "\n"
     ]
    }
   ],
   "source": [
    "cd $WD/data\n",
    "wget ftp://ftp.sra.ebi.ac.uk/vol1/fastq/ERR286/002/ERR2868172/ERR2868172_1.fastq.gz\n",
    "wget ftp://ftp.sra.ebi.ac.uk/vol1/fastq/ERR286/002/ERR2868172/ERR2868172_2.fastq.gz"
   ]
  },
  {
   "cell_type": "markdown",
   "metadata": {
    "slideshow": {
     "slide_type": "subslide"
    }
   },
   "source": [
    "Let's see what our work directory looks like"
   ]
  },
  {
   "cell_type": "code",
   "execution_count": 37,
   "metadata": {},
   "outputs": [
    {
     "name": "stdout",
     "output_type": "stream",
     "text": [
      "\u001b[01;34m/home/tdido/adv-shell\u001b[00m\n",
      "├── \u001b[01;34mdata\u001b[00m\n",
      "│   ├── \u001b[01;31mERR2868172_1.fastq.gz\u001b[00m\n",
      "│   └── \u001b[01;31mERR2868172_2.fastq.gz\u001b[00m\n",
      "├── \u001b[01;34mlog\u001b[00m\n",
      "├── \u001b[01;34mout\u001b[00m\n",
      "└── \u001b[01;34mres\u001b[00m\n",
      "\n",
      "4 directories, 2 files\n"
     ]
    }
   ],
   "source": [
    "tree $WD"
   ]
  },
  {
   "cell_type": "markdown",
   "metadata": {
    "slideshow": {
     "slide_type": "subslide"
    }
   },
   "source": [
    "### Exploring the sequencing reads\n",
    "\n",
    "We've donwloaded \"paired-end\" RNA-seq data. This means that every single RNA molecule is sequenced in two places, with a pre-defined gap in the middle. The two files we downloaded contain the first and the second read respectively, usually in matching order.\n",
    "<img width=\"450\" src=\"img/single_paired_end.png\" />\n"
   ]
  },
  {
   "cell_type": "markdown",
   "metadata": {
    "slideshow": {
     "slide_type": "subslide"
    }
   },
   "source": [
    "In order to work with these files, we need to uncompress them. For this, we can use the \"gunzip\" command.\n",
    "\n",
    "We would however like to keep the compressed files, so we also specify the \"-k\" (keep) argument. "
   ]
  },
  {
   "cell_type": "code",
   "execution_count": 72,
   "metadata": {
    "slideshow": {
     "slide_type": "-"
    }
   },
   "outputs": [
    {
     "name": "stdout",
     "output_type": "stream",
     "text": [
      "\u001b[01;34m/home/tdido/adv-shell\u001b[00m\n",
      "├── \u001b[01;34mdata\u001b[00m\n",
      "│   ├── ERR2868172_1.fastq\n",
      "│   ├── \u001b[01;31mERR2868172_1.fastq.gz\u001b[00m\n",
      "│   ├── ERR2868172_2.fastq\n",
      "│   └── \u001b[01;31mERR2868172_2.fastq.gz\u001b[00m\n",
      "├── \u001b[01;34mlog\u001b[00m\n",
      "├── \u001b[01;34mout\u001b[00m\n",
      "└── \u001b[01;34mres\u001b[00m\n",
      "\n",
      "4 directories, 4 files\n"
     ]
    }
   ],
   "source": [
    "cd $WD/data\n",
    "gunzip -k ERR2868172_1.fastq.gz\n",
    "gunzip -k ERR2868172_2.fastq.gz\n",
    "tree $WD"
   ]
  },
  {
   "cell_type": "markdown",
   "metadata": {
    "slideshow": {
     "slide_type": "subslide"
    }
   },
   "source": [
    "Let's look at the first read of each file to make sure they actually match.\n",
    "\n",
    "**NOTE**: the FASTQ format uses 4 lines per read."
   ]
  },
  {
   "cell_type": "code",
   "execution_count": 42,
   "metadata": {},
   "outputs": [
    {
     "name": "stdout",
     "output_type": "stream",
     "text": [
      "read 1\n",
      "@ERR2868172.1 NS500589:161:H2CJ7BGX2:1:11101:26755:1045/1\n",
      "GGCCGNAATTCCTACATCCTCGGTACTACATGNTTAGTCANNNNNTACATTCGCTTGCCAGCTGCGGACGGCCACG\n",
      "+\n",
      "A/AAA#AEAEEEA/EA/EAAEEA/AE/AE/<E#AE/EAE<#####EEE//E/EAEA<AA/EAAEEEE6AEE/A/A<\n",
      "read 2\n",
      "@ERR2868172.1 NS500589:161:H2CJ7BGX2:1:11101:26755:1045/2\n",
      "CGGGGATCAAGAGAGGTCAAACCCAAAAGAGATCGCGTGGAAGCCCTGCCTGGGGTTGAAGCGTTACACCTTAATC\n",
      "+\n",
      "AAAAAAEEE/E/E/EE/E///EEEAA/<E/E<AEEEEEEEA/EEEEEEEEEEEEE<EE/6EEE/6E///E6AE/6A\n"
     ]
    }
   ],
   "source": [
    "echo \"read 1\"\n",
    "head -4 ERR2868172_1.fastq\n",
    "echo \"read 2\"\n",
    "head -4 ERR2868172_2.fastq"
   ]
  },
  {
   "cell_type": "markdown",
   "metadata": {
    "slideshow": {
     "slide_type": "subslide"
    }
   },
   "source": [
    "Let's check the last read too, to be safe."
   ]
  },
  {
   "cell_type": "code",
   "execution_count": 43,
   "metadata": {},
   "outputs": [
    {
     "name": "stdout",
     "output_type": "stream",
     "text": [
      "read 1\n",
      "@ERR2868172.15966474 NS500589:161:H2CJ7BGX2:4:23612:17958:20394/1\n",
      "GTCCGCAGGAATCCCGCGAATTTNCCAATCANCATCGNGNNTNGANGCTGTTTCCGAAATAAAATCAGGCAACGTT\n",
      "+\n",
      "AAAAAEEEEEEEEEEEEEEEEEE#EEEEEEE#EEEEE#E##E#EE#EEEEEEEEEEEEEEEEEEEEEEEEEEEEEA\n",
      "read 2\n",
      "@ERR2868172.15966474 NS500589:161:H2CJ7BGX2:4:23612:17958:20394/2\n",
      "AGGGTGGTGGGGGCGGAGCGGGGGGAGTTGGGGGGGGGCGGGGGGCGGCTTTTTGGGCACAACACCAAAAAAGAAT\n",
      "+\n",
      "///////A//////A///6////A////A//////A/A//A</A//E/////E///////////E/A//EE/////\n"
     ]
    }
   ],
   "source": [
    "echo \"read 1\"\n",
    "tail -4 ERR2868172_1.fastq\n",
    "echo \"read 2\"\n",
    "tail -4 ERR2868172_2.fastq"
   ]
  },
  {
   "cell_type": "markdown",
   "metadata": {
    "slideshow": {
     "slide_type": "subslide"
    }
   },
   "source": [
    "Let's see how many reads we have in our data.\n",
    "\n",
    "To count the lines we can use the \"wc\" (word count) command, with the \"-l\" argument so that it only counts lines."
   ]
  },
  {
   "cell_type": "code",
   "execution_count": 46,
   "metadata": {},
   "outputs": [
    {
     "name": "stdout",
     "output_type": "stream",
     "text": [
      "63865896 ERR2868172_1.fastq\n"
     ]
    }
   ],
   "source": [
    "wc -l ERR2868172_1.fastq"
   ]
  },
  {
   "cell_type": "markdown",
   "metadata": {
    "slideshow": {
     "slide_type": "-"
    }
   },
   "source": [
    "We know that the FASTQ format uses 4 lines per read, so we should divide the total lines in the\n",
    "file by four."
   ]
  },
  {
   "cell_type": "code",
   "execution_count": 47,
   "metadata": {},
   "outputs": [
    {
     "name": "stdout",
     "output_type": "stream",
     "text": [
      "15966474\n"
     ]
    }
   ],
   "source": [
    "expr 63865896 / 4"
   ]
  },
  {
   "cell_type": "markdown",
   "metadata": {
    "slideshow": {
     "slide_type": "subslide"
    }
   },
   "source": [
    "So apparently we have ~16 million reads in our files.\n",
    "\n",
    "Even if we've got the answer we were looking for, there are a couple of problems with the approach we took:\n",
    "\n",
    "- we had to manually copy the result of \"wc -l\" into a new command to get the read count.\n",
    "- in order to look at the content of the files, we first uncompressed them. This is fine when dealing with a few files, but in a pipeline that may be processing hundreds of file this would be cumbersome to manage, time-consuming, and most importantly, storage-heavy.\n",
    "\n",
    "Let's try to solve these issues with some shell tricks."
   ]
  },
  {
   "cell_type": "markdown",
   "metadata": {
    "slideshow": {
     "slide_type": "subslide"
    }
   },
   "source": [
    "To solve the first problem, in order to count the number of reads from the file we could just keep one line per read and count that. The \"grep\" command allows us to filter the contents of a file by specifying a filtering statement.\n",
    "\n",
    "The Unix shell has two \"channels\" of output: \"standard output\" (stdout) and \"standard error\" (stderr). Each piece of software can decide what to show on each channel at any time. This output will, by default, be shown on the screen. We can \"redirect\" stdout to a file by using the \">\" operator.\n",
    "\n",
    "We will then redirect the output of our grep command to a new file, which will contain only lines starting with \"@\" (the first line for each read)."
   ]
  },
  {
   "cell_type": "code",
   "execution_count": 56,
   "metadata": {},
   "outputs": [
    {
     "name": "stdout",
     "output_type": "stream",
     "text": [
      "15966474 first_line\n"
     ]
    }
   ],
   "source": [
    "grep \"^@\" ERR2868172_1.fastq > first_line\n",
    "wc -l first_line"
   ]
  },
  {
   "cell_type": "markdown",
   "metadata": {
    "slideshow": {
     "slide_type": "subslide"
    }
   },
   "source": [
    "So there we have it: the number of reads without needing to manually enter data.\n",
    "\n",
    "There is a hidden problem with that code, though. Even though the result is correct in this case, it turns out that line number 4, which contains the quality for each sequenced base, could also start with a \"@\". Therefore if we were unlucky and one of our reads had its first base with a quality represented as \"@\", we would be over-counting the reads.\n",
    "\n",
    "To solve this, we can take advantage of the third line, which in FASTQ files from Illumina machines (like the ones we downloaded) is always just a \"+\" and nothing else."
   ]
  },
  {
   "cell_type": "code",
   "execution_count": 57,
   "metadata": {},
   "outputs": [
    {
     "name": "stdout",
     "output_type": "stream",
     "text": [
      "15966474 first_line\n"
     ]
    }
   ],
   "source": [
    "grep \"^+$\" ERR2868172_1.fastq > first_line\n",
    "wc -l first_line"
   ]
  },
  {
   "cell_type": "markdown",
   "metadata": {
    "slideshow": {
     "slide_type": "subslide"
    }
   },
   "source": [
    "To tackle the second problem, we would like to not have to uncompress our files. \"gunzip\" allows us to send the file contents to stdout instead of a file by specifying the \"-c\" argument.\n",
    "\n",
    "Since showing the whole file on screen would be useless, we will combine \"gunzip -c\" with another command: \"more\". \"more\" is a command that allows you to view a file one screen at a time.\n",
    "\n",
    "Since we are not going to uncompress the file, and therefore cannot use more against it directly, we need to somehow send the output of \"gunzip -c\" to \"more\". We can achieve this with what on Unix shell are known as \"pipes\".\n",
    "\n",
    "\"pipes\" (which in the command line are represented simply by the character \"|\") allow you to send the standard output of one command to another command, without writing anything to a file. It is analogous to redirecting with \">\" as we did before, but the destination is another command instead of a file."
   ]
  },
  {
   "cell_type": "markdown",
   "metadata": {
    "slideshow": {
     "slide_type": "subslide"
    }
   },
   "source": [
    "Let's pipe the output of \"gunzip -c\" to more, in order to look at the file contents without uncompressing it first.\n",
    "\n",
    "Since the second command in the pipe is receiving its input from the first one, it will not have an input file specified as an argument."
   ]
  },
  {
   "cell_type": "code",
   "execution_count": 50,
   "metadata": {},
   "outputs": [
    {
     "name": "stdout",
     "output_type": "stream",
     "text": [
      "@ERR2868172.1 NS500589:161:H2CJ7BGX2:1:11101:26755:1045/1\n",
      "GGCCGNAATTCCTACATCCTCGGTACTACATGNTTAGTCANNNNNTACATTCGCTTGCCAGCTGCGGACGGCCACG\n",
      "+\n",
      "A/AAA#AEAEEEA/EA/EAAEEA/AE/AE/<E#AE/EAE<#####EEE//E/EAEA<AA/EAAEEEE6AEE/A/A<\n",
      "@ERR2868172.2 NS500589:161:H2CJ7BGX2:1:11101:15682:1046/1\n",
      "GCTCANCCATGGCAACTAAAACGTACAGTACCNAGTAGTTNNANNCAGAGGCGAAACCGGCAAAACTGCCCCAGT\n",
      "+\n",
      "AAAAA#EEEEEEEEEEEEEEEEEEEEEEEEEE#EEEEEEE##E##EEEEEEEEEEEEAEEEEEEEEEEEEEEEEE\n",
      "@ERR2868172.3 NS500589:161:H2CJ7BGX2:1:11101:25938:1048/1\n",
      "GTCCGGACCCCGTTTTGAAAAAGACCAGGTCACCTGGCAGCAANTCGTCTTTATCAATTTGCGTGCCAATAGAGGC\n",
      "+\n",
      "A/AAAAEEEEEEAEEEEEEEEEEAEAE<AA/AEEEEEAEEEEE#EEEE<AAEEEEEEEEE/EEEAAEEEEEEEE/A\n",
      "@ERR2868172.4 NS500589:161:H2CJ7BGX2:1:11101:23963:1049/1\n",
      "CCTCTCTTGATCCCCGTCCTAAGAGCGGAGGCTAGGGAGAGAGGGCTCTAAGCAGGTTATTAAGCTGCTAAAGCGT\n",
      "+\n",
      "AAAAAEEEEEEEEEEEEEEEEEEEEEEEEEEEEEEEEEEEEEEEEEEEEEEEEEEEEEEEEEEEEEEEEEEEEEEE\n",
      "@ERR2868172.5 NS500589:161:H2CJ7BGX2:1:11101:18187:1050/1\n",
      "CACCGAACGAGAACATGATAATCGCCATCATCATCACCAGCCCGGTGAAGCCGTGCGGCAGGAAACCACCCTGATC\n",
      "+\n",
      "AAAAAEEEEEEEEEEEEEEEEEEEEAEEEEEEEEEEEEEEEEEEAEEEEEEEEEEEEEEEEEEEEAEE<EEEE6EE\n",
      "@ERR2868172.6 NS500589:161:H2CJ7BGX2:1:11101:5028:1051/1\n",
      "GCCTGATCCAGTTCGTCCAGCACATTCCACAGGGTATGGATAGCGCGTTTCAGCACAGAAGTGTAAGCAAAGTCA\n",
      "+\n",
      "\u001b[Km--More--\u001b[27m\n"
     ]
    }
   ],
   "source": [
    "gunzip -c ERR2868172_1.fastq.gz | more"
   ]
  },
  {
   "cell_type": "markdown",
   "metadata": {
    "slideshow": {
     "slide_type": "subslide"
    }
   },
   "source": [
    "To further simplify our command, we can replace \"gunzip -c\" with the command \"zcat\" (zip + cat). \"zcat\" allows you to dump the content of a compresed file to stdout (similar to what \"cat\" does with uncompressed files)."
   ]
  },
  {
   "cell_type": "code",
   "execution_count": 51,
   "metadata": {},
   "outputs": [
    {
     "name": "stdout",
     "output_type": "stream",
     "text": [
      "@ERR2868172.1 NS500589:161:H2CJ7BGX2:1:11101:26755:1045/1\n",
      "GGCCGNAATTCCTACATCCTCGGTACTACATGNTTAGTCANNNNNTACATTCGCTTGCCAGCTGCGGACGGCCACG\n",
      "+\n",
      "A/AAA#AEAEEEA/EA/EAAEEA/AE/AE/<E#AE/EAE<#####EEE//E/EAEA<AA/EAAEEEE6AEE/A/A<\n",
      "@ERR2868172.2 NS500589:161:H2CJ7BGX2:1:11101:15682:1046/1\n",
      "GCTCANCCATGGCAACTAAAACGTACAGTACCNAGTAGTTNNANNCAGAGGCGAAACCGGCAAAACTGCCCCAGT\n",
      "+\n",
      "AAAAA#EEEEEEEEEEEEEEEEEEEEEEEEEE#EEEEEEE##E##EEEEEEEEEEEEAEEEEEEEEEEEEEEEEE\n",
      "@ERR2868172.3 NS500589:161:H2CJ7BGX2:1:11101:25938:1048/1\n",
      "GTCCGGACCCCGTTTTGAAAAAGACCAGGTCACCTGGCAGCAANTCGTCTTTATCAATTTGCGTGCCAATAGAGGC\n",
      "+\n",
      "A/AAAAEEEEEEAEEEEEEEEEEAEAE<AA/AEEEEEAEEEEE#EEEE<AAEEEEEEEEE/EEEAAEEEEEEEE/A\n",
      "@ERR2868172.4 NS500589:161:H2CJ7BGX2:1:11101:23963:1049/1\n",
      "CCTCTCTTGATCCCCGTCCTAAGAGCGGAGGCTAGGGAGAGAGGGCTCTAAGCAGGTTATTAAGCTGCTAAAGCGT\n",
      "+\n",
      "AAAAAEEEEEEEEEEEEEEEEEEEEEEEEEEEEEEEEEEEEEEEEEEEEEEEEEEEEEEEEEEEEEEEEEEEEEEE\n",
      "@ERR2868172.5 NS500589:161:H2CJ7BGX2:1:11101:18187:1050/1\n",
      "CACCGAACGAGAACATGATAATCGCCATCATCATCACCAGCCCGGTGAAGCCGTGCGGCAGGAAACCACCCTGATC\n",
      "+\n",
      "AAAAAEEEEEEEEEEEEEEEEEEEEAEEEEEEEEEEEEEEEEEEAEEEEEEEEEEEEEEEEEEEEAEE<EEEE6EE\n",
      "@ERR2868172.6 NS500589:161:H2CJ7BGX2:1:11101:5028:1051/1\n",
      "GCCTGATCCAGTTCGTCCAGCACATTCCACAGGGTATGGATAGCGCGTTTCAGCACAGAAGTGTAAGCAAAGTCA\n",
      "+\n",
      "\u001b[Km--More--\u001b[27m\n"
     ]
    }
   ],
   "source": [
    "zcat ERR2868172_1.fastq.gz | more"
   ]
  },
  {
   "cell_type": "markdown",
   "metadata": {
    "slideshow": {
     "slide_type": "subslide"
    }
   },
   "source": [
    "Now we can try to check the first read directly in compressed files."
   ]
  },
  {
   "cell_type": "code",
   "execution_count": 52,
   "metadata": {},
   "outputs": [
    {
     "name": "stdout",
     "output_type": "stream",
     "text": [
      "@ERR2868172.1 NS500589:161:H2CJ7BGX2:1:11101:26755:1045/1\n",
      "GGCCGNAATTCCTACATCCTCGGTACTACATGNTTAGTCANNNNNTACATTCGCTTGCCAGCTGCGGACGGCCACG\n",
      "+\n",
      "A/AAA#AEAEEEA/EA/EAAEEA/AE/AE/<E#AE/EAE<#####EEE//E/EAEA<AA/EAAEEEE6AEE/A/A<\n",
      "@ERR2868172.2 NS500589:161:H2CJ7BGX2:1:11101:15682:1046/1\n",
      "\n",
      "gzip: stdout: Broken pipe\n"
     ]
    }
   ],
   "source": [
    "zcat ERR2868172_1.fastq.gz | head -5"
   ]
  },
  {
   "cell_type": "markdown",
   "metadata": {
    "slideshow": {
     "slide_type": "subslide"
    }
   },
   "source": [
    "We can also do our counting without depending on extra files."
   ]
  },
  {
   "cell_type": "code",
   "execution_count": 58,
   "metadata": {},
   "outputs": [
    {
     "name": "stdout",
     "output_type": "stream",
     "text": [
      "15966474\n"
     ]
    }
   ],
   "source": [
    "zcat ERR2868172_1.fastq.gz | grep \"^+$\" | wc -l"
   ]
  },
  {
   "cell_type": "markdown",
   "metadata": {
    "slideshow": {
     "slide_type": "subslide"
    }
   },
   "source": [
    "So it turns out that we didn't even need to uncompress our files after all.\n",
    "\n",
    "Let's search our work directory to see where we have uncompressed fastq files."
   ]
  },
  {
   "cell_type": "code",
   "execution_count": 60,
   "metadata": {},
   "outputs": [
    {
     "name": "stdout",
     "output_type": "stream",
     "text": [
      "/home/tdido/adv-shell/data/ERR2868172_2.fastq\n",
      "/home/tdido/adv-shell/data/ERR2868172_1.fastq\n"
     ]
    }
   ],
   "source": [
    "find $WD -name \"*.fastq\""
   ]
  },
  {
   "cell_type": "markdown",
   "metadata": {
    "slideshow": {
     "slide_type": "subslide"
    }
   },
   "source": [
    "Looks like it's just the two files that we uncompressed manually. It should therefore be safe enough to tell the \"find\" command to delete them.\n",
    "\n",
    "We also don't need our helper file \"first_line\" anymore. Let's get rid of it as well."
   ]
  },
  {
   "cell_type": "code",
   "execution_count": 63,
   "metadata": {},
   "outputs": [],
   "source": [
    "find $WD -name \"*.fastq\" -delete\n",
    "rm $WD/data/first_line"
   ]
  },
  {
   "cell_type": "markdown",
   "metadata": {
    "slideshow": {
     "slide_type": "subslide"
    }
   },
   "source": [
    "Let's check the state of our working directory, to make sure it's nice and clean."
   ]
  },
  {
   "cell_type": "code",
   "execution_count": 64,
   "metadata": {},
   "outputs": [
    {
     "name": "stdout",
     "output_type": "stream",
     "text": [
      "\u001b[01;34m/home/tdido/adv-shell\u001b[00m\n",
      "├── \u001b[01;34mdata\u001b[00m\n",
      "│   ├── \u001b[01;31mERR2868172_1.fastq.gz\u001b[00m\n",
      "│   └── \u001b[01;31mERR2868172_2.fastq.gz\u001b[00m\n",
      "├── \u001b[01;34mlog\u001b[00m\n",
      "├── \u001b[01;34mout\u001b[00m\n",
      "└── \u001b[01;34mres\u001b[00m\n",
      "\n",
      "4 directories, 2 files\n"
     ]
    }
   ],
   "source": [
    "tree $WD"
   ]
  },
  {
   "cell_type": "markdown",
   "metadata": {
    "slideshow": {
     "slide_type": "subslide"
    }
   },
   "source": [
    "### Doing some quality control checks on the data\n",
    "\n",
    "In order to see if the data we are planning to use is good enough, we will use the \"fastqc\" software to do some quality control checks.\n",
    "\n",
    "First, let's install fastqc."
   ]
  },
  {
   "cell_type": "code",
   "execution_count": 89,
   "metadata": {
    "scrolled": true
   },
   "outputs": [
    {
     "name": "stdout",
     "output_type": "stream",
     "text": [
      "Collecting package metadata (current_repodata.json): done\n",
      "Solving environment: done\n",
      "\n",
      "## Package Plan ##\n",
      "\n",
      "  environment location: /home/tdido/miniconda3/envs/adv-shell\n",
      "\n",
      "  added / updated specs:\n",
      "    - fastqc\n",
      "\n",
      "\n",
      "The following packages will be downloaded:\n",
      "\n",
      "    package                    |            build\n",
      "    ---------------------------|-----------------\n",
      "    alsa-lib-1.1.5             |    h516909a_1001         547 KB  conda-forge\n",
      "    fastqc-0.11.8              |                1         9.6 MB  bioconda\n",
      "    font-ttf-dejavu-sans-mono-2.37|       hab24e00_0         388 KB  conda-forge\n",
      "    giflib-5.1.7               |       h516909a_1         455 KB  conda-forge\n",
      "    lcms2-2.9                  |       h2e4bb80_0         423 KB  conda-forge\n",
      "    libtiff-4.0.10             |    hfc65ed5_1004         574 KB  conda-forge\n",
      "    lz4-c-1.8.3                |    he1b5a44_1001         187 KB  conda-forge\n",
      "    openjdk-11.0.1             |    h46a85a0_1017       172.1 MB  conda-forge\n",
      "    pthread-stubs-0.4          |    h14c3975_1001           5 KB  conda-forge\n",
      "    xorg-fixesproto-5.0        |    h14c3975_1002           8 KB  conda-forge\n",
      "    xorg-inputproto-2.3.2      |    h14c3975_1002          18 KB  conda-forge\n",
      "    xorg-kbproto-1.0.7         |    h14c3975_1002          26 KB  conda-forge\n",
      "    xorg-libx11-1.6.9          |       h516909a_0         918 KB  conda-forge\n",
      "    xorg-libxext-1.3.4         |       h516909a_0          51 KB  conda-forge\n",
      "    xorg-libxfixes-5.0.3       |    h516909a_1004          17 KB  conda-forge\n",
      "    xorg-libxi-1.7.10          |       h516909a_0          45 KB  conda-forge\n",
      "    xorg-libxrender-0.9.10     |    h516909a_1002          31 KB  conda-forge\n",
      "    xorg-libxtst-1.2.3         |    h14c3975_1002          30 KB  conda-forge\n",
      "    xorg-recordproto-1.14.2    |    h14c3975_1002           7 KB  conda-forge\n",
      "    xorg-renderproto-0.11.1    |    h14c3975_1002           8 KB  conda-forge\n",
      "    xorg-xextproto-7.3.0       |    h14c3975_1002          27 KB  conda-forge\n",
      "    xorg-xproto-7.0.31         |    h14c3975_1007          72 KB  conda-forge\n",
      "    zstd-1.4.3                 |       h3b9ef0a_0         935 KB  conda-forge\n",
      "    ------------------------------------------------------------\n",
      "                                           Total:       186.3 MB\n",
      "\n",
      "The following NEW packages will be INSTALLED:\n",
      "\n",
      "  alsa-lib           conda-forge/linux-64::alsa-lib-1.1.5-h516909a_1001\n",
      "  fastqc             bioconda/linux-64::fastqc-0.11.8-1\n",
      "  font-ttf-dejavu-s~ conda-forge/noarch::font-ttf-dejavu-sans-mono-2.37-hab24e00_0\n",
      "  fontconfig         conda-forge/linux-64::fontconfig-2.13.1-h86ecdb6_1001\n",
      "  freetype           conda-forge/linux-64::freetype-2.10.0-he983fc9_1\n",
      "  giflib             conda-forge/linux-64::giflib-5.1.7-h516909a_1\n",
      "  icu                conda-forge/linux-64::icu-64.2-he1b5a44_1\n",
      "  jpeg               conda-forge/linux-64::jpeg-9c-h14c3975_1001\n",
      "  lcms2              conda-forge/linux-64::lcms2-2.9-h2e4bb80_0\n",
      "  libiconv           conda-forge/linux-64::libiconv-1.15-h516909a_1005\n",
      "  libpng             conda-forge/linux-64::libpng-1.6.37-hed695b0_0\n",
      "  libstdcxx-ng       pkgs/main/linux-64::libstdcxx-ng-9.1.0-hdf63c60_0\n",
      "  libtiff            conda-forge/linux-64::libtiff-4.0.10-hfc65ed5_1004\n",
      "  libuuid            conda-forge/linux-64::libuuid-2.32.1-h14c3975_1000\n",
      "  libxcb             conda-forge/linux-64::libxcb-1.13-h14c3975_1002\n",
      "  libxml2            conda-forge/linux-64::libxml2-2.9.9-hee79883_5\n",
      "  lz4-c              conda-forge/linux-64::lz4-c-1.8.3-he1b5a44_1001\n",
      "  openjdk            conda-forge/linux-64::openjdk-11.0.1-h46a85a0_1017\n",
      "  perl               conda-forge/linux-64::perl-5.26.2-h516909a_1006\n",
      "  pthread-stubs      conda-forge/linux-64::pthread-stubs-0.4-h14c3975_1001\n",
      "  xorg-fixesproto    conda-forge/linux-64::xorg-fixesproto-5.0-h14c3975_1002\n",
      "  xorg-inputproto    conda-forge/linux-64::xorg-inputproto-2.3.2-h14c3975_1002\n",
      "  xorg-kbproto       conda-forge/linux-64::xorg-kbproto-1.0.7-h14c3975_1002\n",
      "  xorg-libx11        conda-forge/linux-64::xorg-libx11-1.6.9-h516909a_0\n",
      "  xorg-libxau        conda-forge/linux-64::xorg-libxau-1.0.9-h14c3975_0\n",
      "  xorg-libxdmcp      conda-forge/linux-64::xorg-libxdmcp-1.1.3-h516909a_0\n",
      "  xorg-libxext       conda-forge/linux-64::xorg-libxext-1.3.4-h516909a_0\n",
      "  xorg-libxfixes     conda-forge/linux-64::xorg-libxfixes-5.0.3-h516909a_1004\n",
      "  xorg-libxi         conda-forge/linux-64::xorg-libxi-1.7.10-h516909a_0\n",
      "  xorg-libxrender    conda-forge/linux-64::xorg-libxrender-0.9.10-h516909a_1002\n",
      "  xorg-libxtst       conda-forge/linux-64::xorg-libxtst-1.2.3-h14c3975_1002\n",
      "  xorg-recordproto   conda-forge/linux-64::xorg-recordproto-1.14.2-h14c3975_1002\n",
      "  xorg-renderproto   conda-forge/linux-64::xorg-renderproto-0.11.1-h14c3975_1002\n",
      "  xorg-xextproto     conda-forge/linux-64::xorg-xextproto-7.3.0-h14c3975_1002\n",
      "  xorg-xproto        conda-forge/linux-64::xorg-xproto-7.0.31-h14c3975_1007\n",
      "  xz                 conda-forge/linux-64::xz-5.2.4-h14c3975_1001\n",
      "  zstd               conda-forge/linux-64::zstd-1.4.3-h3b9ef0a_0\n",
      "\n",
      "\n",
      "\n",
      "Downloading and Extracting Packages\n",
      "xorg-libxrender-0.9. | 31 KB     | ##################################### | 100% \n",
      "xorg-recordproto-1.1 | 7 KB      | ##################################### | 100% \n",
      "xorg-libx11-1.6.9    | 918 KB    | ##################################### | 100% \n",
      "font-ttf-dejavu-sans | 388 KB    | ##################################### | 100% \n",
      "xorg-fixesproto-5.0  | 8 KB      | ##################################### | 100% \n",
      "xorg-xextproto-7.3.0 | 27 KB     | ##################################### | 100% \n",
      "xorg-renderproto-0.1 | 8 KB      | ##################################### | 100% \n",
      "giflib-5.1.7         | 455 KB    | ##################################### | 100% \n",
      "zstd-1.4.3           | 935 KB    | ##################################### | 100% \n",
      "libtiff-4.0.10       | 574 KB    | ##################################### | 100% \n",
      "xorg-libxi-1.7.10    | 45 KB     | ##################################### | 100% \n",
      "xorg-libxext-1.3.4   | 51 KB     | ##################################### | 100% \n",
      "lz4-c-1.8.3          | 187 KB    | ##################################### | 100% \n",
      "xorg-libxfixes-5.0.3 | 17 KB     | ##################################### | 100% \n",
      "openjdk-11.0.1       | 172.1 MB  | ##################################### | 100% \n",
      "alsa-lib-1.1.5       | 547 KB    | ##################################### | 100% \n",
      "xorg-kbproto-1.0.7   | 26 KB     | ##################################### | 100% \n",
      "xorg-libxtst-1.2.3   | 30 KB     | ##################################### | 100% \n",
      "pthread-stubs-0.4    | 5 KB      | ##################################### | 100% \n",
      "fastqc-0.11.8        | 9.6 MB    | ##################################### | 100% \n",
      "lcms2-2.9            | 423 KB    | ##################################### | 100% \n",
      "xorg-inputproto-2.3. | 18 KB     | ##################################### | 100% \n",
      "xorg-xproto-7.0.31   | 72 KB     | ##################################### | 100% \n",
      "Preparing transaction: done\n",
      "Verifying transaction: done\n",
      "Executing transaction: done\n",
      "(adv-shell) "
     ]
    },
    {
     "ename": "",
     "evalue": "1",
     "output_type": "error",
     "traceback": []
    }
   ],
   "source": [
    "conda install -y fastqc"
   ]
  },
  {
   "cell_type": "markdown",
   "metadata": {
    "slideshow": {
     "slide_type": "subslide"
    }
   },
   "source": [
    "We can now run fastqc on our data."
   ]
  },
  {
   "cell_type": "code",
   "execution_count": 91,
   "metadata": {
    "scrolled": true
   },
   "outputs": [
    {
     "name": "stdout",
     "output_type": "stream",
     "text": [
      "(adv-shell) (adv-shell) Started analysis of ERR2868172_1.fastq.gz\n",
      "Approx 5% complete for ERR2868172_1.fastq.gz\n",
      "Approx 10% complete for ERR2868172_1.fastq.gz\n",
      "Approx 15% complete for ERR2868172_1.fastq.gz\n",
      "Approx 20% complete for ERR2868172_1.fastq.gz\n",
      "Approx 25% complete for ERR2868172_1.fastq.gz\n",
      "Approx 30% complete for ERR2868172_1.fastq.gz\n",
      "Approx 35% complete for ERR2868172_1.fastq.gz\n",
      "Approx 40% complete for ERR2868172_1.fastq.gz\n",
      "Approx 45% complete for ERR2868172_1.fastq.gz\n",
      "Approx 50% complete for ERR2868172_1.fastq.gz\n",
      "Approx 55% complete for ERR2868172_1.fastq.gz\n",
      "Approx 60% complete for ERR2868172_1.fastq.gz\n",
      "Approx 65% complete for ERR2868172_1.fastq.gz\n",
      "Approx 70% complete for ERR2868172_1.fastq.gz\n",
      "Approx 75% complete for ERR2868172_1.fastq.gz\n",
      "Approx 80% complete for ERR2868172_1.fastq.gz\n",
      "Approx 85% complete for ERR2868172_1.fastq.gz\n",
      "Approx 90% complete for ERR2868172_1.fastq.gz\n",
      "Approx 95% complete for ERR2868172_1.fastq.gz\n",
      "Analysis complete for ERR2868172_1.fastq.gz\n",
      "Started analysis of ERR2868172_2.fastq.gz\n",
      "Approx 5% complete for ERR2868172_2.fastq.gz\n",
      "Approx 10% complete for ERR2868172_2.fastq.gz\n",
      "Approx 15% complete for ERR2868172_2.fastq.gz\n",
      "Approx 20% complete for ERR2868172_2.fastq.gz\n",
      "Approx 25% complete for ERR2868172_2.fastq.gz\n",
      "Approx 30% complete for ERR2868172_2.fastq.gz\n",
      "Approx 35% complete for ERR2868172_2.fastq.gz\n",
      "Approx 40% complete for ERR2868172_2.fastq.gz\n",
      "Approx 45% complete for ERR2868172_2.fastq.gz\n",
      "Approx 50% complete for ERR2868172_2.fastq.gz\n",
      "Approx 55% complete for ERR2868172_2.fastq.gz\n",
      "Approx 60% complete for ERR2868172_2.fastq.gz\n",
      "Approx 65% complete for ERR2868172_2.fastq.gz\n",
      "Approx 70% complete for ERR2868172_2.fastq.gz\n",
      "Approx 75% complete for ERR2868172_2.fastq.gz\n",
      "Approx 80% complete for ERR2868172_2.fastq.gz\n",
      "Approx 85% complete for ERR2868172_2.fastq.gz\n",
      "Approx 90% complete for ERR2868172_2.fastq.gz\n",
      "Approx 95% complete for ERR2868172_2.fastq.gz\n",
      "Analysis complete for ERR2868172_2.fastq.gz\n",
      "(adv-shell) "
     ]
    },
    {
     "ename": "",
     "evalue": "1",
     "output_type": "error",
     "traceback": []
    }
   ],
   "source": [
    "cd $WD\n",
    "mkdir out/fastqc\n",
    "fastqc -o out/fastqc data/*.fastq.gz"
   ]
  },
  {
   "cell_type": "markdown",
   "metadata": {
    "slideshow": {
     "slide_type": "subslide"
    }
   },
   "source": [
    "Let's see what happened."
   ]
  },
  {
   "cell_type": "code",
   "execution_count": 92,
   "metadata": {},
   "outputs": [
    {
     "name": "stdout",
     "output_type": "stream",
     "text": [
      "\u001b[01;34m/home/tdido/adv-shell\u001b[00m\n",
      "├── \u001b[01;34mdata\u001b[00m\n",
      "│   ├── \u001b[01;31mERR2868172_1.fastq.gz\u001b[00m\n",
      "│   └── \u001b[01;31mERR2868172_2.fastq.gz\u001b[00m\n",
      "├── \u001b[01;34mlog\u001b[00m\n",
      "├── \u001b[01;34mout\u001b[00m\n",
      "│   └── \u001b[01;34mfastqc\u001b[00m\n",
      "│       ├── ERR2868172_1_fastqc.html\n",
      "│       ├── \u001b[01;31mERR2868172_1_fastqc.zip\u001b[00m\n",
      "│       ├── ERR2868172_2_fastqc.html\n",
      "│       └── \u001b[01;31mERR2868172_2_fastqc.zip\u001b[00m\n",
      "└── \u001b[01;34mres\u001b[00m\n",
      "\n",
      "5 directories, 6 files\n",
      "(adv-shell) "
     ]
    },
    {
     "ename": "",
     "evalue": "1",
     "output_type": "error",
     "traceback": []
    }
   ],
   "source": [
    "tree $WD"
   ]
  },
  {
   "cell_type": "markdown",
   "metadata": {},
   "source": [
    "You can open the html files in your browser to view the reports."
   ]
  },
  {
   "cell_type": "markdown",
   "metadata": {
    "slideshow": {
     "slide_type": "subslide"
    }
   },
   "source": [
    "### Making our data manageable in a workstation\n",
    "\n",
    "As we've determined before, we are dealing with ~16 million sequencing reads. While your workstation would likely be able to deal with this amount of data, it would take longer than we can afford in the lesson.\n",
    "\n",
    "We will therefore take a random sample of 300.000 reads, and use that for our downstream analysis."
   ]
  },
  {
   "cell_type": "markdown",
   "metadata": {
    "slideshow": {
     "slide_type": "subslide"
    }
   },
   "source": [
    "To downsample our reads, we will use the \"seqtk\" program. \"seqtk\" is a toolkit for processing FASTQ and FASTA files.\n",
    "\n",
    "We'll start by installing seqtk."
   ]
  },
  {
   "cell_type": "code",
   "execution_count": 78,
   "metadata": {},
   "outputs": [
    {
     "name": "stdout",
     "output_type": "stream",
     "text": [
      "Collecting package metadata (current_repodata.json): done\n",
      "Solving environment: done\n",
      "\n",
      "## Package Plan ##\n",
      "\n",
      "  environment location: /home/tdido/miniconda3/envs/adv-shell\n",
      "\n",
      "  added / updated specs:\n",
      "    - seqtk\n",
      "\n",
      "\n",
      "The following NEW packages will be INSTALLED:\n",
      "\n",
      "  _libgcc_mutex      pkgs/main/linux-64::_libgcc_mutex-0.1-main\n",
      "  libgcc-ng          pkgs/main/linux-64::libgcc-ng-9.1.0-hdf63c60_0\n",
      "  seqtk              bioconda/linux-64::seqtk-1.3-hed695b0_2\n",
      "  zlib               conda-forge/linux-64::zlib-1.2.11-h516909a_1006\n",
      "\n",
      "\n",
      "Preparing transaction: done\n",
      "Verifying transaction: done\n",
      "Executing transaction: done\n",
      "(adv-shell) "
     ]
    },
    {
     "ename": "",
     "evalue": "1",
     "output_type": "error",
     "traceback": []
    }
   ],
   "source": [
    "conda install -y seqtk"
   ]
  },
  {
   "cell_type": "markdown",
   "metadata": {
    "slideshow": {
     "slide_type": "subslide"
    }
   },
   "source": [
    "We would like to keep our original files safe, so let's put them in a subdirectory."
   ]
  },
  {
   "cell_type": "code",
   "execution_count": 66,
   "metadata": {},
   "outputs": [
    {
     "name": "stdout",
     "output_type": "stream",
     "text": [
      "(adv-shell) (adv-shell) (adv-shell) \u001b[01;34m/home/tdido/adv-shell\u001b[00m\n",
      "├── \u001b[01;34mdata\u001b[00m\n",
      "│   └── \u001b[01;34moriginal\u001b[00m\n",
      "│       ├── \u001b[01;31mERR2868172_1.fastq.gz\u001b[00m\n",
      "│       └── \u001b[01;31mERR2868172_2.fastq.gz\u001b[00m\n",
      "├── \u001b[01;34mlog\u001b[00m\n",
      "├── \u001b[01;34mout\u001b[00m\n",
      "│   └── \u001b[01;34mfastqc\u001b[00m\n",
      "│       ├── ERR2868172_1_fastqc.html\n",
      "│       ├── \u001b[01;31mERR2868172_1_fastqc.zip\u001b[00m\n",
      "│       ├── ERR2868172_2_fastqc.html\n",
      "│       └── \u001b[01;31mERR2868172_2_fastqc.zip\u001b[00m\n",
      "└── \u001b[01;34mres\u001b[00m\n",
      "\n",
      "6 directories, 6 files\n",
      "(adv-shell) "
     ]
    },
    {
     "ename": "",
     "evalue": "1",
     "output_type": "error",
     "traceback": []
    }
   ],
   "source": [
    "cd $WD/data\n",
    "mkdir original\n",
    "mv *.fastq.gz original\n",
    "tree $WD"
   ]
  },
  {
   "cell_type": "markdown",
   "metadata": {
    "slideshow": {
     "slide_type": "subslide"
    }
   },
   "source": [
    "We can now subsample our files into the data directory."
   ]
  },
  {
   "cell_type": "code",
   "execution_count": 85,
   "metadata": {},
   "outputs": [
    {
     "name": "stdout",
     "output_type": "stream",
     "text": [
      "(adv-shell) (adv-shell) total 25M\n",
      "drwxr-xr-x 3 tdido tdido 4.0K Oct 21 14:34 \u001b[0m\u001b[01;34m.\u001b[0m\n",
      "drwxr-xr-x 6 tdido tdido 4.0K Oct 21 11:51 \u001b[01;34m..\u001b[0m\n",
      "-rw-r--r-- 1 tdido tdido  12M Oct 21 14:34 \u001b[01;31mERR2868172_1.fastq.gz\u001b[0m\n",
      "-rw-r--r-- 1 tdido tdido  13M Oct 21 14:35 \u001b[01;31mERR2868172_2.fastq.gz\u001b[0m\n",
      "drwxr-xr-x 2 tdido tdido 4.0K Oct 21 14:27 \u001b[01;34moriginal\u001b[0m\n",
      "(adv-shell) total 1.1G\n",
      "drwxr-xr-x 2 tdido tdido 4.0K Oct 21 14:27 \u001b[0m\u001b[01;34m.\u001b[0m\n",
      "drwxr-xr-x 3 tdido tdido 4.0K Oct 21 14:34 \u001b[01;34m..\u001b[0m\n",
      "-rw-r--r-- 1 tdido tdido 510M Oct 21 13:38 \u001b[01;31mERR2868172_1.fastq.gz\u001b[0m\n",
      "-rw-r--r-- 1 tdido tdido 540M Oct 21 13:39 \u001b[01;31mERR2868172_2.fastq.gz\u001b[0m\n",
      "(adv-shell) "
     ]
    },
    {
     "ename": "",
     "evalue": "1",
     "output_type": "error",
     "traceback": []
    }
   ],
   "source": [
    "seqtk sample -s100 original/ERR2868172_1.fastq.gz 300000 | gzip > ERR2868172_1.fastq.gz\n",
    "seqtk sample -s100 original/ERR2868172_2.fastq.gz 300000 | gzip > ERR2868172_2.fastq.gz\n",
    "ls -lah $WD/data\n",
    "ls -lah $WD/data/original"
   ]
  },
  {
   "cell_type": "markdown",
   "metadata": {
    "slideshow": {
     "slide_type": "subslide"
    }
   },
   "source": [
    "Let's also generate two new datasets that will be useful in later steps. We will do this just by varying the sampling seed, and assigning them fake names based on the real one.\n",
    "\n",
    "**NOTE**: the repository where we downloaded the data contains samples named like the ones we're inventing. Don't get confused if you decide to download more samples from it."
   ]
  },
  {
   "cell_type": "code",
   "execution_count": 96,
   "metadata": {},
   "outputs": [
    {
     "name": "stdout",
     "output_type": "stream",
     "text": [
      "(adv-shell) (adv-shell) (adv-shell) (adv-shell) total 73M\n",
      "drwxr-xr-x 3 tdido tdido 4.0K Oct 21 14:45 \u001b[0m\u001b[01;34m.\u001b[0m\n",
      "drwxr-xr-x 6 tdido tdido 4.0K Oct 21 11:51 \u001b[01;34m..\u001b[0m\n",
      "-rw-r--r-- 1 tdido tdido  12M Oct 21 14:34 \u001b[01;31mERR2868172_1.fastq.gz\u001b[0m\n",
      "-rw-r--r-- 1 tdido tdido  13M Oct 21 14:35 \u001b[01;31mERR2868172_2.fastq.gz\u001b[0m\n",
      "-rw-r--r-- 1 tdido tdido  12M Oct 21 14:36 \u001b[01;31mERR2868173_1.fastq.gz\u001b[0m\n",
      "-rw-r--r-- 1 tdido tdido  13M Oct 21 14:36 \u001b[01;31mERR2868173_2.fastq.gz\u001b[0m\n",
      "-rw-r--r-- 1 tdido tdido  12M Oct 21 14:37 \u001b[01;31mERR2868174_1.fastq.gz\u001b[0m\n",
      "-rw-r--r-- 1 tdido tdido  13M Oct 21 14:37 \u001b[01;31mERR2868174_2.fastq.gz\u001b[0m\n",
      "drwxr-xr-x 2 tdido tdido 4.0K Oct 21 14:45 \u001b[01;34moriginal\u001b[0m\n",
      "(adv-shell) total 1.1G\n",
      "drwxr-xr-x 2 tdido tdido 4.0K Oct 21 14:45 \u001b[0m\u001b[01;34m.\u001b[0m\n",
      "drwxr-xr-x 3 tdido tdido 4.0K Oct 21 14:45 \u001b[01;34m..\u001b[0m\n",
      "-rw-r--r-- 1 tdido tdido 510M Oct 21 13:38 \u001b[01;31mERR2868172_1.fastq.gz\u001b[0m\n",
      "-rw-r--r-- 1 tdido tdido 540M Oct 21 13:39 \u001b[01;31mERR2868172_2.fastq.gz\u001b[0m\n",
      "(adv-shell) "
     ]
    },
    {
     "ename": "",
     "evalue": "1",
     "output_type": "error",
     "traceback": []
    }
   ],
   "source": [
    "seqtk sample -s7 original/ERR2868172_1.fastq.gz 300000 | gzip > ERR2868173_1.fastq.gz\n",
    "seqtk sample -s7 original/ERR2868172_2.fastq.gz 300000 | gzip > ERR2868173_2.fastq.gz\n",
    "seqtk sample -s56 original/ERR2868172_1.fastq.gz 300000 | gzip > ERR2868174_1.fastq.gz\n",
    "seqtk sample -s56 original/ERR2868172_2.fastq.gz 300000 | gzip > ERR2868174_2.fastq.gz\n",
    "ls -lah $WD/data\n",
    "ls -lah $WD/data/original"
   ]
  },
  {
   "cell_type": "markdown",
   "metadata": {
    "slideshow": {
     "slide_type": "subslide"
    }
   },
   "source": [
    "Let's check what our projects looks like with the newly generated data."
   ]
  },
  {
   "cell_type": "code",
   "execution_count": 67,
   "metadata": {},
   "outputs": [
    {
     "name": "stdout",
     "output_type": "stream",
     "text": [
      "\u001b[01;34m/home/tdido/adv-shell\u001b[00m\n",
      "├── \u001b[01;34mdata\u001b[00m\n",
      "│   ├── \u001b[01;31mERR2868172_1.fastq.gz\u001b[00m\n",
      "│   ├── \u001b[01;31mERR2868172_2.fastq.gz\u001b[00m\n",
      "│   ├── \u001b[01;31mERR2868173_1.fastq.gz\u001b[00m\n",
      "│   ├── \u001b[01;31mERR2868173_2.fastq.gz\u001b[00m\n",
      "│   ├── \u001b[01;31mERR2868174_1.fastq.gz\u001b[00m\n",
      "│   ├── \u001b[01;31mERR2868174_2.fastq.gz\u001b[00m\n",
      "│   └── \u001b[01;34moriginal\u001b[00m\n",
      "│       ├── \u001b[01;31mERR2868172_1.fastq.gz\u001b[00m\n",
      "│       └── \u001b[01;31mERR2868172_2.fastq.gz\u001b[00m\n",
      "├── \u001b[01;34mlog\u001b[00m\n",
      "├── \u001b[01;34mout\u001b[00m\n",
      "│   └── \u001b[01;34mfastqc\u001b[00m\n",
      "│       ├── ERR2868172_1_fastqc.html\n",
      "│       ├── \u001b[01;31mERR2868172_1_fastqc.zip\u001b[00m\n",
      "│       ├── ERR2868172_2_fastqc.html\n",
      "│       └── \u001b[01;31mERR2868172_2_fastqc.zip\u001b[00m\n",
      "└── \u001b[01;34mres\u001b[00m\n",
      "\n",
      "6 directories, 12 files\n",
      "(adv-shell) "
     ]
    },
    {
     "ename": "",
     "evalue": "1",
     "output_type": "error",
     "traceback": []
    }
   ],
   "source": [
    "tree $WD"
   ]
  },
  {
   "cell_type": "markdown",
   "metadata": {
    "slideshow": {
     "slide_type": "slide"
    }
   },
   "source": [
    "## Downloading the genome\n",
    "\n",
    "We will be downloading the Escherichia coli reference genome from the [NCBI](https://www.ncbi.nlm.nih.gov/).\n",
    "\n",
    "We need to download the genome that matches the experiment that we will analyse. In order to identify the specific E. coli strain to download, we should check the metadata available on the ENA project where we obtained our data."
   ]
  },
  {
   "cell_type": "code",
   "execution_count": 95,
   "metadata": {
    "slideshow": {
     "slide_type": "subslide"
    }
   },
   "outputs": [
    {
     "name": "stdout",
     "output_type": "stream",
     "text": [
      "(adv-shell) (adv-shell) (adv-shell) --2019-10-21 14:47:21--  ftp://ftp.ncbi.nlm.nih.gov/genomes/all/GCF/000/005/845/GCF_000005845.2_ASM584v2/GCF_000005845.2_ASM584v2_genomic.fna.gz\n",
      "           => ‘ecoli.fasta.gz’\n",
      "Resolving ftp.ncbi.nlm.nih.gov (ftp.ncbi.nlm.nih.gov)... 130.14.250.7, 2607:f220:41e:250::12\n",
      "Connecting to ftp.ncbi.nlm.nih.gov (ftp.ncbi.nlm.nih.gov)|130.14.250.7|:21... connected.\n",
      "Logging in as anonymous ... Logged in!\n",
      "==> SYST ... done.    ==> PWD ... done.\n",
      "==> TYPE I ... done.  ==> CWD (1) /genomes/all/GCF/000/005/845/GCF_000005845.2_ASM584v2 ... done.\n",
      "==> SIZE GCF_000005845.2_ASM584v2_genomic.fna.gz ... 1379902\n",
      "==> PASV ... done.    ==> RETR GCF_000005845.2_ASM584v2_genomic.fna.gz ... done.\n",
      "Length: 1379902 (1.3M) (unauthoritative)\n",
      "\n",
      "GCF_000005845.2_ASM 100%[===================>]   1.32M  1.15MB/s    in 1.1s    \n",
      "\n",
      "2019-10-21 14:47:24 (1.15 MB/s) - ‘ecoli.fasta.gz’ saved [1379902]\n",
      "\n",
      "(adv-shell) (adv-shell) "
     ]
    },
    {
     "ename": "",
     "evalue": "1",
     "output_type": "error",
     "traceback": []
    }
   ],
   "source": [
    "cd $WD\n",
    "mkdir res/genome\n",
    "cd $_\n",
    "wget -O ecoli.fasta.gz ftp://ftp.ncbi.nlm.nih.gov/genomes/all/GCF/000/005/845/GCF_000005845.2_ASM584v2/GCF_000005845.2_ASM584v2_genomic.fna.gz\n",
    "gunzip -k ecoli.fasta.gz"
   ]
  },
  {
   "cell_type": "markdown",
   "metadata": {
    "slideshow": {
     "slide_type": "subslide"
    }
   },
   "source": [
    "Let's see what our working directory looks like."
   ]
  },
  {
   "cell_type": "code",
   "execution_count": 97,
   "metadata": {},
   "outputs": [
    {
     "name": "stdout",
     "output_type": "stream",
     "text": [
      "\u001b[01;34m/home/tdido/adv-shell\u001b[00m\n",
      "├── \u001b[01;34mdata\u001b[00m\n",
      "│   ├── \u001b[01;31mERR2868172_1.fastq.gz\u001b[00m\n",
      "│   ├── \u001b[01;31mERR2868172_2.fastq.gz\u001b[00m\n",
      "│   ├── \u001b[01;31mERR2868173_1.fastq.gz\u001b[00m\n",
      "│   ├── \u001b[01;31mERR2868173_2.fastq.gz\u001b[00m\n",
      "│   ├── \u001b[01;31mERR2868174_1.fastq.gz\u001b[00m\n",
      "│   ├── \u001b[01;31mERR2868174_2.fastq.gz\u001b[00m\n",
      "│   └── \u001b[01;34moriginal\u001b[00m\n",
      "│       ├── \u001b[01;31mERR2868172_1.fastq.gz\u001b[00m\n",
      "│       └── \u001b[01;31mERR2868172_2.fastq.gz\u001b[00m\n",
      "├── \u001b[01;34mlog\u001b[00m\n",
      "├── \u001b[01;34mout\u001b[00m\n",
      "│   └── \u001b[01;34mfastqc\u001b[00m\n",
      "│       ├── ERR2868172_1_fastqc.html\n",
      "│       ├── \u001b[01;31mERR2868172_1_fastqc.zip\u001b[00m\n",
      "│       ├── ERR2868172_2_fastqc.html\n",
      "│       └── \u001b[01;31mERR2868172_2_fastqc.zip\u001b[00m\n",
      "└── \u001b[01;34mres\u001b[00m\n",
      "    └── \u001b[01;34mgenome\u001b[00m\n",
      "        ├── ecoli.fasta\n",
      "        └── \u001b[01;31mecoli.fasta.gz\u001b[00m\n",
      "\n",
      "7 directories, 14 files\n",
      "(adv-shell) "
     ]
    },
    {
     "ename": "",
     "evalue": "1",
     "output_type": "error",
     "traceback": []
    }
   ],
   "source": [
    "tree $WD"
   ]
  },
  {
   "cell_type": "markdown",
   "metadata": {
    "slideshow": {
     "slide_type": "subslide"
    }
   },
   "source": [
    "And let's check what our genome looks like."
   ]
  },
  {
   "cell_type": "code",
   "execution_count": 98,
   "metadata": {},
   "outputs": [
    {
     "name": "stdout",
     "output_type": "stream",
     "text": [
      ">NC_000913.3 Escherichia coli str. K-12 substr. MG1655, complete genome\n",
      "AGCTTTTCATTCTGACTGCAACGGGCAATATGTCTCTGTGTGGATTAAAAAAAGAGTGTCTGATAGCAGCTTCTGAACTG\n",
      "GTTACCTGCCGTGAGTAAATTAAAATTTTATTGACTTAGGTCACTAAATACTTTAACCAATATAGGCATAGCGCACAGAC\n",
      "AGATAAAAATTACAGAGTACACAACATCCATGAAACGCATTAGCACCACCATTACCACCACCATCACCATTACCACAGGT\n",
      "AACGGTGCGGGCTGACGCGTACAGGAAACACAGAAAAAAGCCCGCACCTGACAGTGCGGGCTTTTTTTTTCGACCAAAGG\n",
      "TAACGAGGTAACAACCATGCGAGTGTTGAAGTTCGGCGGTACATCAGTGGCAAATGCAGAACGTTTTCTGCGTGTTGCCG\n",
      "ATATTCTGGAAAGCAATGCCAGGCAGGGGCAGGTGGCCACCGTCCTCTCTGCCCCCGCCAAAATCACCAACCACCTGGTG\n",
      "GCGATGATTGAAAAAACCATTAGCGGCCAGGATGCTTTACCCAATATCAGCGATGCCGAACGTATTTTTGCCGAACTTTT\n",
      "GACGGGACTCGCCGCCGCCCAGCCGGGGTTCCCGCTGGCGCAATTGAAAACTTTCGTCGATCAGGAATTTGCCCAAATAA\n",
      "AACATGTCCTGCATGGCATTAGTTTGTTGGGGCAGTGCCCGGATAGCATCAACGCTGCGCTGATTTGCCGTGGCGAGAAA\n",
      "(adv-shell) "
     ]
    },
    {
     "ename": "",
     "evalue": "1",
     "output_type": "error",
     "traceback": []
    }
   ],
   "source": [
    "head -10 $WD/res/genome/ecoli.fasta"
   ]
  },
  {
   "cell_type": "markdown",
   "metadata": {
    "slideshow": {
     "slide_type": "slide"
    }
   },
   "source": [
    "## Analysing the data\n",
    "\n",
    "We will now use the data we've prepared, performing the following steps:\n",
    "\n",
    "- Remove sequencing adapters from our reads\n",
    "- Indexing the genome for alignment\n",
    "- Aligning our reads to the genome\n",
    "- Generating a QC report"
   ]
  },
  {
   "cell_type": "markdown",
   "metadata": {
    "slideshow": {
     "slide_type": "subslide"
    }
   },
   "source": [
    "### Adapter trimming\n",
    "\n",
    "During sequencing experiments, additional molecules are added to our molecules of interest in order for them to bind to our sequencing platform. These molecules are called *sequencing adapters*.\n",
    "\n",
    "<img src=\"img/seq_synth.png\" width=\"600\">\n"
   ]
  },
  {
   "cell_type": "markdown",
   "metadata": {
    "slideshow": {
     "slide_type": "subslide"
    }
   },
   "source": [
    "Depending on the experiment, these sequencing adapters can actually be sequenced along with our molecules. We should then look for them and remove any we find.\n",
    "\n",
    "To do this, we will use the \"cutadapt\" software.\n",
    "\n",
    "Let's first install cutadapt."
   ]
  },
  {
   "cell_type": "code",
   "execution_count": 101,
   "metadata": {
    "scrolled": true
   },
   "outputs": [
    {
     "name": "stdout",
     "output_type": "stream",
     "text": [
      "Collecting package metadata (current_repodata.json): done\n",
      "Solving environment: done\n",
      "\n",
      "## Package Plan ##\n",
      "\n",
      "  environment location: /home/tdido/miniconda3/envs/adv-shell\n",
      "\n",
      "  added / updated specs:\n",
      "    - cutadapt\n",
      "\n",
      "\n",
      "The following packages will be downloaded:\n",
      "\n",
      "    package                    |            build\n",
      "    ---------------------------|-----------------\n",
      "    certifi-2019.9.11          |           py37_0         147 KB  conda-forge\n",
      "    cutadapt-2.5               |   py37h516909a_0         171 KB  bioconda\n",
      "    dnaio-0.4                  |   py37h516909a_0         130 KB  bioconda\n",
      "    pip-19.3.1                 |           py37_0         1.9 MB  conda-forge\n",
      "    setuptools-41.4.0          |           py37_0         634 KB  conda-forge\n",
      "    wheel-0.33.6               |           py37_0          35 KB  conda-forge\n",
      "    xopen-0.8.3                |           py37_0          15 KB  conda-forge\n",
      "    ------------------------------------------------------------\n",
      "                                           Total:         3.0 MB\n",
      "\n",
      "The following NEW packages will be INSTALLED:\n",
      "\n",
      "  bzip2              conda-forge/linux-64::bzip2-1.0.8-h516909a_1\n",
      "  ca-certificates    conda-forge/linux-64::ca-certificates-2019.9.11-hecc5488_0\n",
      "  certifi            conda-forge/linux-64::certifi-2019.9.11-py37_0\n",
      "  cutadapt           bioconda/linux-64::cutadapt-2.5-py37h516909a_0\n",
      "  dnaio              bioconda/linux-64::dnaio-0.4-py37h516909a_0\n",
      "  libffi             conda-forge/linux-64::libffi-3.2.1-he1b5a44_1006\n",
      "  ncurses            conda-forge/linux-64::ncurses-6.1-hf484d3e_1002\n",
      "  openssl            conda-forge/linux-64::openssl-1.1.1c-h516909a_0\n",
      "  pigz               conda-forge/linux-64::pigz-2.3.4-0\n",
      "  pip                conda-forge/linux-64::pip-19.3.1-py37_0\n",
      "  python             conda-forge/linux-64::python-3.7.3-h33d41f4_1\n",
      "  readline           conda-forge/linux-64::readline-8.0-hf8c457e_0\n",
      "  setuptools         conda-forge/linux-64::setuptools-41.4.0-py37_0\n",
      "  sqlite             conda-forge/linux-64::sqlite-3.30.1-hcee41ef_0\n",
      "  tk                 conda-forge/linux-64::tk-8.6.9-hed695b0_1003\n",
      "  wheel              conda-forge/linux-64::wheel-0.33.6-py37_0\n",
      "  xopen              conda-forge/linux-64::xopen-0.8.3-py37_0\n",
      "\n",
      "\n",
      "\n",
      "Downloading and Extracting Packages\n",
      "certifi-2019.9.11    | 147 KB    | ##################################### | 100% \n",
      "dnaio-0.4            | 130 KB    | ##################################### | 100% \n",
      "wheel-0.33.6         | 35 KB     | ##################################### | 100% \n",
      "xopen-0.8.3          | 15 KB     | ##################################### | 100% \n",
      "pip-19.3.1           | 1.9 MB    | ##################################### | 100% \n",
      "setuptools-41.4.0    | 634 KB    | ##################################### | 100% \n",
      "cutadapt-2.5         | 171 KB    | ##################################### | 100% \n",
      "Preparing transaction: done\n",
      "Verifying transaction: done\n",
      "Executing transaction: done\n",
      "(adv-shell) "
     ]
    },
    {
     "ename": "",
     "evalue": "1",
     "output_type": "error",
     "traceback": []
    }
   ],
   "source": [
    "conda install -y cutadapt"
   ]
  },
  {
   "cell_type": "markdown",
   "metadata": {
    "slideshow": {
     "slide_type": "subslide"
    }
   },
   "source": [
    "We can now proceed to remove the adapters. We will also indicate that we want to discard any reads shorter than 20 nucleotides after trimming.\n",
    "\n",
    "We will also be redirecting cutadapt's standard output to a log file.\n",
    "\n",
    "**NOTE**: you can get the crazy long cutadapt command from [this link](https://gist.github.com/tdido)."
   ]
  },
  {
   "cell_type": "code",
   "execution_count": 106,
   "metadata": {},
   "outputs": [
    {
     "name": "stdout",
     "output_type": "stream",
     "text": [
      "[  8=--------] 00:00:06       300,000 reads  @     20.1 µs/read;   2.98 M reads/minute\n",
      "(adv-shell) "
     ]
    },
    {
     "ename": "",
     "evalue": "1",
     "output_type": "error",
     "traceback": []
    }
   ],
   "source": [
    "cd $WD\n",
    "mkdir out/cutadapt\n",
    "mkdir log/cutadapt\n",
    "cutadapt -m 20 -a AGATCGGAAGAGCACACGTCTGAACTCCAGTCA -A AGATCGGAAGAGCGTCGTGTAGGGAAAGAGTGT \\\n",
    "-o out/cutadapt/ERR2868172_1.trimmed.fastq.gz \\\n",
    "-p out/cutadapt/ERR2868172_2.trimmed.fastq.gz \\\n",
    "data/ERR2868172_1.fastq.gz data/ERR2868172_2.fastq.gz > log/cutadapt/ERR2868172.log"
   ]
  },
  {
   "cell_type": "markdown",
   "metadata": {
    "slideshow": {
     "slide_type": "subslide"
    }
   },
   "source": [
    "Let's check the logfile to see what happened."
   ]
  },
  {
   "cell_type": "code",
   "execution_count": null,
   "metadata": {},
   "outputs": [
    {
     "name": "stdout",
     "output_type": "stream",
     "text": [
      "This is cutadapt 2.5 with Python 3.7.3\n",
      "Command line parameters: -m 20 -a AGATCGGAAGAGCACACGTCTGAACTCCAGTCA -A AGATCGGAAGAGCGTCGTGTAGGGAAAGAGTGT -o out/cutadapt/ERR2868172_1.trimmed.fastq.gz -p out/cutadapt/ERR2868172_2.trimmed.fastq.gz data/ERR2868172_1.fastq.gz data/ERR2868172_2.fastq.gz\n",
      "Processing reads on 1 core in paired-end mode ...\n",
      "Finished in 6.05 s (20 us/read; 2.97 M reads/minute).\n",
      "\n",
      "=== Summary ===\n",
      "\n",
      "Total read pairs processed:            300,000\n",
      "  Read 1 with adapter:                   2,117 (0.7%)\n",
      "  Read 2 with adapter:                   1,558 (0.5%)\n",
      "Pairs that were too short:                 723 (0.2%)\n",
      "Pairs written (passing filters):       299,277 (99.8%)\n",
      "\n",
      "Total basepairs processed:    45,035,878 bp\n",
      "  Read 1:    22,527,185 bp\n",
      "  Read 2:    22,508,693 bp\n",
      "Total written (filtered):     44,914,990 bp (99.7%)\n",
      "  Read 1:    22,466,810 bp\n",
      "  Read 2:    22,448,180 bp\n",
      "\n"
     ]
    }
   ],
   "source": [
    "less log/cutadapt/ERR2868172.log"
   ]
  },
  {
   "cell_type": "markdown",
   "metadata": {
    "slideshow": {
     "slide_type": "subslide"
    }
   },
   "source": [
    "### Indexing the genome and aligning our reads\n",
    "\n",
    "In order to align our reads, we need to pre-process our genome by generating an index. This index will work just like an index in a book: it will allow us to find parts of the genome faster, without having to go through all of its bases.\n",
    "\n",
    "Indexing is usually performed by the same software we use to align. In this case, we will be using STAR. Let's start by installing it."
   ]
  },
  {
   "cell_type": "code",
   "execution_count": 4,
   "metadata": {},
   "outputs": [
    {
     "name": "stdout",
     "output_type": "stream",
     "text": [
      "Collecting package metadata (current_repodata.json): done\n",
      "Solving environment: done\n",
      "\n",
      "## Package Plan ##\n",
      "\n",
      "  environment location: /home/tdido/miniconda3\n",
      "\n",
      "  added / updated specs:\n",
      "    - star\n",
      "\n",
      "\n",
      "The following NEW packages will be INSTALLED:\n",
      "\n",
      "  star               bioconda/linux-64::star-2.7.3a-0\n",
      "\n",
      "\n",
      "Preparing transaction: done\n",
      "Verifying transaction: done\n",
      "Executing transaction: done\n",
      "(base) "
     ]
    },
    {
     "ename": "",
     "evalue": "1",
     "output_type": "error",
     "traceback": []
    }
   ],
   "source": [
    "conda install -y star"
   ]
  },
  {
   "cell_type": "markdown",
   "metadata": {
    "slideshow": {
     "slide_type": "subslide"
    }
   },
   "source": [
    "We can now index our genome."
   ]
  },
  {
   "cell_type": "code",
   "execution_count": 5,
   "metadata": {},
   "outputs": [
    {
     "name": "stdout",
     "output_type": "stream",
     "text": [
      "(base) Oct 21 15:06:54 ..... started STAR run\n",
      "Oct 21 15:06:54 ... starting to generate Genome files\n",
      "Oct 21 15:06:54 ... starting to sort Suffix Array. This may take a long time...\n",
      "Oct 21 15:06:54 ... sorting Suffix Array chunks and saving them to disk...\n",
      "Oct 21 15:06:55 ... loading chunks from disk, packing SA...\n",
      "Oct 21 15:06:55 ... finished generating suffix array\n",
      "Oct 21 15:06:55 ... generating Suffix Array index\n",
      "Oct 21 15:06:55 ... completed Suffix Array index\n",
      "Oct 21 15:06:55 ... writing Genome to disk ...\n",
      "Oct 21 15:06:55 ... writing Suffix Array to disk ...\n",
      "Oct 21 15:06:55 ... writing SAindex to disk\n",
      "Oct 21 15:06:55 ..... finished successfully\n",
      "(base) "
     ]
    },
    {
     "ename": "",
     "evalue": "1",
     "output_type": "error",
     "traceback": []
    }
   ],
   "source": [
    "cd $WD\n",
    "mkdir res/genome/star_index\n",
    "STAR --runThreadN 4 --runMode genomeGenerate \\\n",
    "--genomeDir res/genome/star_index/ \\\n",
    "--genomeFastaFiles res/genome/ecoli.fasta \\\n",
    "--genomeSAindexNbases 9"
   ]
  },
  {
   "cell_type": "markdown",
   "metadata": {
    "slideshow": {
     "slide_type": "subslide"
    }
   },
   "source": [
    "With our index ready, we can now align our reads to it."
   ]
  },
  {
   "cell_type": "code",
   "execution_count": 8,
   "metadata": {},
   "outputs": [
    {
     "name": "stdout",
     "output_type": "stream",
     "text": [
      "(base) (base) Oct 21 15:09:05 ..... started STAR run\n",
      "Oct 21 15:09:05 ..... loading genome\n",
      "Oct 21 15:09:05 ..... started mapping\n",
      "Oct 21 15:09:43 ..... finished mapping\n",
      "Oct 21 15:09:43 ..... finished successfully\n",
      "(base) "
     ]
    },
    {
     "ename": "",
     "evalue": "1",
     "output_type": "error",
     "traceback": []
    }
   ],
   "source": [
    "cd $WD\n",
    "mkdir -p out/star/ERR2868172\n",
    "STAR --runThreadN 4 --genomeDir res/genome/star_index/ \\\n",
    "--readFilesIn out/cutadapt/ERR2868172_1.trimmed.fastq.gz out/cutadapt/ERR2868172_2.trimmed.fastq.gz \\\n",
    "--readFilesCommand zcat \\\n",
    "--outFileNamePrefix out/star/ERR2868172/"
   ]
  },
  {
   "cell_type": "markdown",
   "metadata": {
    "slideshow": {
     "slide_type": "subslide"
    }
   },
   "source": [
    "Let's see what our project looks like."
   ]
  },
  {
   "cell_type": "code",
   "execution_count": 9,
   "metadata": {},
   "outputs": [
    {
     "name": "stdout",
     "output_type": "stream",
     "text": [
      "\u001b[01;34m/home/tdido/adv-shell\u001b[00m\n",
      "├── \u001b[01;34mdata\u001b[00m\n",
      "│   ├── \u001b[01;31mERR2868172_1.fastq.gz\u001b[00m\n",
      "│   ├── \u001b[01;31mERR2868172_2.fastq.gz\u001b[00m\n",
      "│   ├── \u001b[01;31mERR2868173_1.fastq.gz\u001b[00m\n",
      "│   ├── \u001b[01;31mERR2868173_2.fastq.gz\u001b[00m\n",
      "│   ├── \u001b[01;31mERR2868174_1.fastq.gz\u001b[00m\n",
      "│   ├── \u001b[01;31mERR2868174_2.fastq.gz\u001b[00m\n",
      "│   └── \u001b[01;34moriginal\u001b[00m\n",
      "│       ├── \u001b[01;31mERR2868172_1.fastq.gz\u001b[00m\n",
      "│       └── \u001b[01;31mERR2868172_2.fastq.gz\u001b[00m\n",
      "├── \u001b[01;34mlog\u001b[00m\n",
      "│   └── \u001b[01;34mcutadapt\u001b[00m\n",
      "│       └── ERR2868172.log\n",
      "├── \u001b[01;34mout\u001b[00m\n",
      "│   ├── \u001b[01;34mcutadapt\u001b[00m\n",
      "│   │   ├── \u001b[01;31mERR2868172_1.trimmed.fastq.gz\u001b[00m\n",
      "│   │   └── \u001b[01;31mERR2868172_2.trimmed.fastq.gz\u001b[00m\n",
      "│   ├── \u001b[01;34mfastqc\u001b[00m\n",
      "│   │   ├── ERR2868172_1_fastqc.html\n",
      "│   │   ├── \u001b[01;31mERR2868172_1_fastqc.zip\u001b[00m\n",
      "│   │   ├── ERR2868172_2_fastqc.html\n",
      "│   │   └── \u001b[01;31mERR2868172_2_fastqc.zip\u001b[00m\n",
      "│   └── \u001b[01;34mstar\u001b[00m\n",
      "│       └── \u001b[01;34mERR2868172\u001b[00m\n",
      "│           ├── Aligned.out.sam\n",
      "│           ├── Log.final.out\n",
      "│           ├── Log.out\n",
      "│           ├── Log.progress.out\n",
      "│           └── SJ.out.tab\n",
      "└── \u001b[01;34mres\u001b[00m\n",
      "    └── \u001b[01;34mgenome\u001b[00m\n",
      "        ├── ecoli.fasta\n",
      "        ├── \u001b[01;31mecoli.fasta.gz\u001b[00m\n",
      "        └── \u001b[01;34mstar_index\u001b[00m\n",
      "            ├── chrLength.txt\n",
      "            ├── chrNameLength.txt\n",
      "            ├── chrName.txt\n",
      "            ├── chrStart.txt\n",
      "            ├── Genome\n",
      "            ├── genomeParameters.txt\n",
      "            ├── SA\n",
      "            └── SAindex\n",
      "\n",
      "12 directories, 30 files\n",
      "(base) "
     ]
    },
    {
     "ename": "",
     "evalue": "1",
     "output_type": "error",
     "traceback": []
    }
   ],
   "source": [
    "tree $WD"
   ]
  },
  {
   "cell_type": "markdown",
   "metadata": {
    "slideshow": {
     "slide_type": "subslide"
    }
   },
   "source": [
    "Let's check the STAR log file to see what it did."
   ]
  },
  {
   "cell_type": "code",
   "execution_count": 10,
   "metadata": {},
   "outputs": [
    {
     "name": "stdout",
     "output_type": "stream",
     "text": [
      "                                 Started job on |\tOct 21 15:09:05\n",
      "                             Started mapping on |\tOct 21 15:09:05\n",
      "                                    Finished on |\tOct 21 15:09:43\n",
      "       Mapping speed, Million of reads per hour |\t28.35\n",
      "\n",
      "                          Number of input reads |\t299277\n",
      "                      Average input read length |\t150\n",
      "                                    UNIQUE READS:\n",
      "                   Uniquely mapped reads number |\t274739\n",
      "                        Uniquely mapped reads % |\t91.80%\n",
      "                          Average mapped length |\t149.72\n",
      "                       Number of splices: Total |\t189\n",
      "            Number of splices: Annotated (sjdb) |\t0\n",
      "                       Number of splices: GT/AG |\t93\n",
      "                       Number of splices: GC/AG |\t4\n",
      "                       Number of splices: AT/AC |\t0\n",
      "               Number of splices: Non-canonical |\t92\n",
      "                      Mismatch rate per base, % |\t0.13%\n",
      "                         Deletion rate per base |\t0.00%\n",
      "                        Deletion average length |\t1.28\n",
      "                        Insertion rate per base |\t0.01%\n",
      "                       Insertion average length |\t1.01\n",
      "                             MULTI-MAPPING READS:\n",
      "\u001b[K(base) --(61%)\u001b[27m"
     ]
    }
   ],
   "source": [
    "more $WD/out/star/ERR2868172/Log.final.out"
   ]
  },
  {
   "cell_type": "markdown",
   "metadata": {
    "slideshow": {
     "slide_type": "subslide"
    }
   },
   "source": [
    "Let's now look at the output alignments (the file is very wide, so you may be better off using a text editor)."
   ]
  },
  {
   "cell_type": "code",
   "execution_count": 3,
   "metadata": {},
   "outputs": [
    {
     "name": "stdout",
     "output_type": "stream",
     "text": [
      "@HD\tVN:1.4\n",
      "@SQ\tSN:NC_000913.3\tLN:4641652\n",
      "@PG\tID:STAR\tPN:STAR\tVN:2.7.3a\tCL:STAR   --runThreadN 4   --genomeDir res/genome/star_index/   --readFilesIn out/cutadapt/ERR2868172_1.trimmed.fastq.gz   out/cutadapt/ERR2868172_2.trimmed.fastq.gz      --readFilesCommand zcat      --outFileNamePrefix out/star/ERR2868172/\n",
      "@CO\tuser command line: STAR --runThreadN 4 --genomeDir res/genome/star_index/ --readFilesIn out/cutadapt/ERR2868172_1.trimmed.fastq.gz out/cutadapt/ERR2868172_2.trimmed.fastq.gz --readFilesCommand zcat --outFileNamePrefix out/star/ERR2868172/\n",
      "ERR2868172.15617810\t163\tNC_000913.3\t2755660\t255\t76M\t=\t2755694\t110\tTAAAAAGCCGCAAAAAATAGTCGCAAACGACGAAAACTACGCTTTAGCAGCTTAATAACCTGCTTAGAGCCCTCTC\tAAAAAEAEEEEEEEEEEEEEEEEEEEEEEEEEEEEEEEEEEEEEEEEEEEEEEEEEEEEEEEEEEEEEEEEEEEEE\tNH:i:1\tHI:i:1\tAS:i:150\tnM:i:0\n",
      "ERR2868172.15617810\t83\tNC_000913.3\t2755694\t255\t76M\t=\t2755660\t-110\tAACTACGCTTTAGCAGCTTAATAACCTGCTTAGAGCCCTCTCTCCCTAGCCTCCGCTCTTAGGACGGGGATCAAGA\tEEEEEEEEEEEEEEEEEEEEEEEEEEEEEEEEEEEEEEEEEEEEEEEEEEEEEEEEEEEEEEEEEEEEEEEAAAAA\tNH:i:1\tHI:i:1\tAS:i:150\tnM:i:0\n",
      "ERR2868172.12330375\t163\tNC_000913.3\t2755801\t255\t76M\t=\t2755831\t106\tCCCTGCCTGGGGTTGAAGCGTTAAAACTTAATCAGGCTAGTTTGTTAGTGGCGTGTCCGTCCGCAGCTGGCAAGCG\tAAAAAEEEEEEEEEEEEEEEEEEEEEEEEEEEEEEEEEEEE6EEEEEEEEEEEEEEEEEE/EEEEEEEEAEEEAE<\tNH:i:1\tHI:i:1\tAS:i:150\tnM:i:0\n",
      "ERR2868172.12330375\t83\tNC_000913.3\t2755831\t255\t76M\t=\t2755801\t-106\tATCAGGCTAGTTTGTTAGTGGCGTGTCCGTCCGCAGCTGGCAAGCGAATGTAAAGACTGACTAAGCATGTAGTACC\tEEEEEEEEEEEEEEEEEEEEEEEEEEEEEEEEEEEEEEEEEEEEEEEEEEEEEEEEEEAEEEEEEEEEEEEAAAAA\tNH:i:1\tHI:i:1\tAS:i:150\tnM:i:0\n",
      "ERR2868172.6006507\t99\tNC_000913.3\t120279\t255\t74M\t=\t120355\t152\tCTGGGGTCATCAGCATAATCACCAGTACCGCCGCCATAAACAGCAGGCAGATCCAGTTACCCAGCGGATAAAGC\tAAAAAEEEEEEEEAEEEEEEEEAAEAEEAEEEEEEEEEEEEEEAEEAEEAE/EEEE/EEEEEEEEEAEEEEEEE\tNH:i:1\tHI:i:1\tAS:i:148\tnM:i:0\n",
      "ERR2868172.6006507\t147\tNC_000913.3\t120355\t255\t76M\t=\t120279\t-152\tAGCAGGGAAGCGAGTTACCACGCCTTGTTCCTGCTTGGCGCGACGGAATTTCATATGCGCCAGGCTAATCATCGCC\t/EAEEEE<<EEEEEEE<AEE<EEEAEEEEEEEEEEEEEEEEEEE/EEEEEEEEEEEEEEEEEEEEEEEEEEAAAAA\tNH:i:1\tHI:i:1\tAS:i:148\tnM:i:0\n"
     ]
    }
   ],
   "source": [
    "head -10 $WD/out/star/ERR2868172/Aligned.out.sam"
   ]
  },
  {
   "cell_type": "markdown",
   "metadata": {
    "slideshow": {
     "slide_type": "subslide"
    }
   },
   "source": [
    "### Creating a report for the pipeline\n",
    "\n",
    "In order to get an overview of what happened with the pipeline, and how well it worked, we'll create a report summarizing all the output. For this, we'll use the \"MultiQC\" software.\n",
    "\n",
    "MultiQC parses a directory for output and log files from software it recognizes, and generates a report summarising its finds.\n",
    "\n",
    "Let's start by installing it."
   ]
  },
  {
   "cell_type": "code",
   "execution_count": 15,
   "metadata": {
    "scrolled": true
   },
   "outputs": [
    {
     "name": "stdout",
     "output_type": "stream",
     "text": [
      "Collecting package metadata (current_repodata.json): done\n",
      "Solving environment: done\n",
      "\n",
      "## Package Plan ##\n",
      "\n",
      "  environment location: /home/tdido/miniconda3/envs/adv-shell\n",
      "\n",
      "  added / updated specs:\n",
      "    - multiqc\n",
      "\n",
      "\n",
      "The following packages will be downloaded:\n",
      "\n",
      "    package                    |            build\n",
      "    ---------------------------|-----------------\n",
      "    asn1crypto-1.2.0           |           py37_0         158 KB  conda-forge\n",
      "    cffi-1.13.0                |   py37h8022711_0         220 KB  conda-forge\n",
      "    libxkbcommon-0.9.1         |       hebb1f50_0         472 KB  conda-forge\n",
      "    nspr-4.23                  |       he1b5a44_0         1.6 MB  conda-forge\n",
      "    nss-3.47                   |       he751ad9_0         1.9 MB  conda-forge\n",
      "    pyqt-5.12.3                |   py37hcca6a23_0         6.3 MB  conda-forge\n",
      "    ------------------------------------------------------------\n",
      "                                           Total:        10.7 MB\n",
      "\n",
      "The following NEW packages will be INSTALLED:\n",
      "\n",
      "  asn1crypto         conda-forge/linux-64::asn1crypto-1.2.0-py37_0\n",
      "  cffi               conda-forge/linux-64::cffi-1.13.0-py37h8022711_0\n",
      "  chardet            conda-forge/linux-64::chardet-3.0.4-py37_1003\n",
      "  click              conda-forge/noarch::click-7.0-py_0\n",
      "  colormath          conda-forge/noarch::colormath-3.0.0-py_2\n",
      "  cryptography       conda-forge/linux-64::cryptography-2.7-py37h72c5cf5_0\n",
      "  cycler             conda-forge/noarch::cycler-0.10.0-py_1\n",
      "  dbus               conda-forge/linux-64::dbus-1.13.6-he372182_0\n",
      "  decorator          conda-forge/noarch::decorator-4.4.0-py_0\n",
      "  expat              conda-forge/linux-64::expat-2.2.5-he1b5a44_1004\n",
      "  future             conda-forge/linux-64::future-0.18.1-py37_0\n",
      "  gettext            conda-forge/linux-64::gettext-0.19.8.1-hc5be6a0_1002\n",
      "  glib               conda-forge/linux-64::glib-2.58.3-h6f030ca_1002\n",
      "  gst-plugins-base   conda-forge/linux-64::gst-plugins-base-1.14.5-h0935bb2_0\n",
      "  gstreamer          conda-forge/linux-64::gstreamer-1.14.5-h36ae1b5_0\n",
      "  idna               conda-forge/linux-64::idna-2.8-py37_1000\n",
      "  jinja2             conda-forge/noarch::jinja2-2.10.3-py_0\n",
      "  kiwisolver         conda-forge/linux-64::kiwisolver-1.1.0-py37hc9558a2_0\n",
      "  libblas            conda-forge/linux-64::libblas-3.8.0-14_openblas\n",
      "  libcblas           conda-forge/linux-64::libcblas-3.8.0-14_openblas\n",
      "  libclang           conda-forge/linux-64::libclang-9.0.0-hc9558a2_1\n",
      "  libgfortran-ng     conda-forge/linux-64::libgfortran-ng-7.3.0-hdf63c60_2\n",
      "  liblapack          conda-forge/linux-64::liblapack-3.8.0-14_openblas\n",
      "  libllvm9           conda-forge/linux-64::libllvm9-9.0.0-hc9558a2_2\n",
      "  libopenblas        conda-forge/linux-64::libopenblas-0.3.7-h6e990d7_2\n",
      "  libxkbcommon       conda-forge/linux-64::libxkbcommon-0.9.1-hebb1f50_0\n",
      "  lzstring           conda-forge/noarch::lzstring-1.0.4-py_1001\n",
      "  markdown           conda-forge/noarch::markdown-3.1.1-py_0\n",
      "  markupsafe         conda-forge/linux-64::markupsafe-1.1.1-py37h14c3975_0\n",
      "  matplotlib         conda-forge/linux-64::matplotlib-3.1.1-py37_1\n",
      "  matplotlib-base    conda-forge/linux-64::matplotlib-base-3.1.1-py37he7580a8_1\n",
      "  multiqc            bioconda/noarch::multiqc-1.7-py_4\n",
      "  networkx           conda-forge/noarch::networkx-2.4-py_0\n",
      "  nspr               conda-forge/linux-64::nspr-4.23-he1b5a44_0\n",
      "  nss                conda-forge/linux-64::nss-3.47-he751ad9_0\n",
      "  numpy              conda-forge/linux-64::numpy-1.17.2-py37h95a1406_0\n",
      "  pcre               conda-forge/linux-64::pcre-8.43-he1b5a44_0\n",
      "  pycparser          conda-forge/linux-64::pycparser-2.19-py37_1\n",
      "  pyopenssl          conda-forge/linux-64::pyopenssl-19.0.0-py37_0\n",
      "  pyparsing          conda-forge/noarch::pyparsing-2.4.2-py_0\n",
      "  pyqt               conda-forge/linux-64::pyqt-5.12.3-py37hcca6a23_0\n",
      "  pysocks            conda-forge/linux-64::pysocks-1.7.1-py37_0\n",
      "  python-dateutil    conda-forge/noarch::python-dateutil-2.8.0-py_0\n",
      "  pyyaml             conda-forge/linux-64::pyyaml-5.1.2-py37h516909a_0\n",
      "  qt                 conda-forge/linux-64::qt-5.12.5-h0c104cb_0\n",
      "  requests           conda-forge/linux-64::requests-2.22.0-py37_1\n",
      "  simplejson         conda-forge/linux-64::simplejson-3.16.0-py37h14c3975_1002\n",
      "  six                conda-forge/linux-64::six-1.12.0-py37_1000\n",
      "  spectra            conda-forge/noarch::spectra-0.0.11-py_1\n",
      "  tornado            conda-forge/linux-64::tornado-6.0.3-py37h516909a_0\n",
      "  urllib3            conda-forge/linux-64::urllib3-1.25.6-py37_0\n",
      "  yaml               conda-forge/linux-64::yaml-0.1.7-h14c3975_1001\n",
      "\n",
      "\n",
      "\n",
      "Downloading and Extracting Packages\n",
      "asn1crypto-1.2.0     | 158 KB    | ##################################### | 100% \n",
      "nspr-4.23            | 1.6 MB    | ##################################### | 100% \n",
      "libxkbcommon-0.9.1   | 472 KB    | ##################################### | 100% \n",
      "pyqt-5.12.3          | 6.3 MB    | ##################################### | 100% \n",
      "cffi-1.13.0          | 220 KB    | ##################################### | 100% \n",
      "nss-3.47             | 1.9 MB    | ##################################### | 100% \n",
      "Preparing transaction: done\n",
      "Verifying transaction: done\n",
      "Executing transaction: done\n",
      "(adv-shell) "
     ]
    },
    {
     "ename": "",
     "evalue": "1",
     "output_type": "error",
     "traceback": []
    }
   ],
   "source": [
    "conda install -y multiqc"
   ]
  },
  {
   "cell_type": "markdown",
   "metadata": {
    "slideshow": {
     "slide_type": "subslide"
    }
   },
   "source": [
    "To run MultiQC on your workdir, we simply pass the workdir path to the \"multiqc\" binary."
   ]
  },
  {
   "cell_type": "code",
   "execution_count": 16,
   "metadata": {},
   "outputs": [
    {
     "name": "stdout",
     "output_type": "stream",
     "text": [
      "/home/tdido/miniconda3/envs/adv-shell/lib/python3.7/site-packages/multiqc/utils/config.py:45: YAMLLoadWarning: calling yaml.load() without Loader=... is deprecated, as the default Loader is unsafe. Please read https://msg.pyyaml.org/load for full details.\n",
      "  configs = yaml.load(f)\n",
      "/home/tdido/miniconda3/envs/adv-shell/lib/python3.7/site-packages/multiqc/utils/config.py:51: YAMLLoadWarning: calling yaml.load() without Loader=... is deprecated, as the default Loader is unsafe. Please read https://msg.pyyaml.org/load for full details.\n",
      "  sp = yaml.load(f)\n",
      "[INFO   ]         multiqc : This is MultiQC v1.7\n",
      "[INFO   ]         multiqc : Template    : default\n",
      "[INFO   ]         multiqc : Searching '/home/tdido/adv-shell'\n",
      "\u001b[?25lSearching 30 files..  [####################################]  100%          \u001b[?25h\n",
      "[INFO   ]            star : Found 1 reports\n",
      "[INFO   ]        cutadapt : Found 1 reports\n",
      "[INFO   ]          fastqc : Found 2 reports\n",
      "[INFO   ]         multiqc : Compressing plot data\n",
      "[INFO   ]         multiqc : Report      : out/multiqc/multiqc_report.html\n",
      "[INFO   ]         multiqc : Data        : out/multiqc/multiqc_data\n",
      "[INFO   ]         multiqc : MultiQC complete\n",
      "(adv-shell) "
     ]
    },
    {
     "ename": "",
     "evalue": "1",
     "output_type": "error",
     "traceback": []
    }
   ],
   "source": [
    "multiqc -o out/multiqc $WD"
   ]
  },
  {
   "cell_type": "markdown",
   "metadata": {
    "slideshow": {
     "slide_type": "slide"
    }
   },
   "source": [
    "## Building a pipeline\n",
    "\n",
    "In this section we will be automating the steps that you just performed manually, so that they can be applied to any input files."
   ]
  },
  {
   "cell_type": "markdown",
   "metadata": {
    "slideshow": {
     "slide_type": "subslide"
    }
   },
   "source": [
    "### Shell scripts\n",
    "\n",
    "A shell script is a text file that contains shell commands, variables, and control structures.\n",
    "\n",
    "Let's create a simple shell script that prints a name."
   ]
  },
  {
   "cell_type": "code",
   "execution_count": 38,
   "metadata": {
    "slideshow": {
     "slide_type": "-"
    }
   },
   "outputs": [],
   "source": [
    "mkdir scripts\n",
    "echo 'echo My name is Erwin Shroedinger' > scripts/print_name.sh"
   ]
  },
  {
   "cell_type": "markdown",
   "metadata": {},
   "source": [
    "The script is hereby created. These are its contents:"
   ]
  },
  {
   "cell_type": "code",
   "execution_count": 34,
   "metadata": {},
   "outputs": [
    {
     "name": "stdout",
     "output_type": "stream",
     "text": [
      "echo My name is Erwin Shroedinger\n"
     ]
    }
   ],
   "source": [
    "cat scripts/print_name.sh"
   ]
  },
  {
   "cell_type": "markdown",
   "metadata": {},
   "source": [
    "Let's run it then:"
   ]
  },
  {
   "cell_type": "code",
   "execution_count": 39,
   "metadata": {},
   "outputs": [
    {
     "name": "stdout",
     "output_type": "stream",
     "text": [
      "My name is Erwin Shroedinger\n"
     ]
    }
   ],
   "source": [
    "bash scripts/print_name.sh"
   ]
  },
  {
   "cell_type": "markdown",
   "metadata": {
    "slideshow": {
     "slide_type": "subslide"
    }
   },
   "source": [
    "Very exciting.\n",
    "\n",
    "We can add another command to show the date when the script was run."
   ]
  },
  {
   "cell_type": "code",
   "execution_count": 40,
   "metadata": {},
   "outputs": [
    {
     "name": "stdout",
     "output_type": "stream",
     "text": [
      "My name is Erwin Shroedinger\n",
      "and this is the date: Tue 22 Oct 12:57:32 CEST 2019\n"
     ]
    }
   ],
   "source": [
    "echo 'echo and this is the date: $(date)' >> scripts/print_name.sh\n",
    "bash scripts/print_name.sh"
   ]
  },
  {
   "cell_type": "markdown",
   "metadata": {},
   "source": [
    "Notice how we redirect the second command using \">>\" to append, instead of overwrite.\n",
    "\n",
    "This is what the script contains right now:"
   ]
  },
  {
   "cell_type": "code",
   "execution_count": 41,
   "metadata": {},
   "outputs": [
    {
     "name": "stdout",
     "output_type": "stream",
     "text": [
      "echo My name is Erwin Shroedinger\n",
      "echo and this is the date: $(date)\n"
     ]
    }
   ],
   "source": [
    "cat scripts/print_name.sh"
   ]
  },
  {
   "cell_type": "markdown",
   "metadata": {
    "slideshow": {
     "slide_type": "subslide"
    }
   },
   "source": [
    "### Exercise 1\n",
    "\n",
    "Create a shell script that runs all the commands in the previous section, from cutadapt to the STAR alignment."
   ]
  },
  {
   "cell_type": "markdown",
   "metadata": {
    "slideshow": {
     "slide_type": "subslide"
    }
   },
   "source": [
    "The name-printing script we wrote before works, but it's not very useful as it is.\n",
    "\n",
    "Let's now modify it so that it takes the name as an argument."
   ]
  },
  {
   "cell_type": "code",
   "execution_count": 22,
   "metadata": {},
   "outputs": [
    {
     "name": "stdout",
     "output_type": "stream",
     "text": [
      "My name is Max Planck\n",
      "My name is Max\n"
     ]
    }
   ],
   "source": [
    "echo 'echo My name is $1' > scripts/print_name_args.sh\n",
    "bash scripts/print_name_args.sh \"Max Planck\"\n",
    "#if we don't use the quotes, then we are passing two arguments and it will process only one\n",
    "bash scripts/print_name_args.sh Max Planck"
   ]
  },
  {
   "cell_type": "markdown",
   "metadata": {
    "slideshow": {
     "slide_type": "subslide"
    }
   },
   "source": [
    "We can make it more flexible by allowing it to take first and last name separately."
   ]
  },
  {
   "cell_type": "code",
   "execution_count": 12,
   "metadata": {},
   "outputs": [
    {
     "name": "stdout",
     "output_type": "stream",
     "text": [
      "My name is Rosalind Franklin\n",
      "My name is Marie Curie\n"
     ]
    }
   ],
   "source": [
    "echo 'echo My name is $1 $2' > scripts/print_name_args_sep.sh\n",
    "bash scripts/print_name_args_sep.sh Rosalind Franklin\n",
    "bash scripts/print_name_args_sep.sh Marie Curie"
   ]
  },
  {
   "cell_type": "markdown",
   "metadata": {
    "slideshow": {
     "slide_type": "subslide"
    }
   },
   "source": [
    "And we could also be more formal and write the last name first by switching the order of the variables."
   ]
  },
  {
   "cell_type": "code",
   "execution_count": 13,
   "metadata": {},
   "outputs": [
    {
     "name": "stdout",
     "output_type": "stream",
     "text": [
      "My name is Franklin, Rosalind\n",
      "My name is Curie, Marie\n"
     ]
    }
   ],
   "source": [
    "echo 'echo My name is $2, $1' > scripts/print_name_args_sep_rev.sh\n",
    "bash scripts/print_name_args_sep_rev.sh Rosalind Franklin\n",
    "bash scripts/print_name_args_sep_rev.sh Marie Curie"
   ]
  },
  {
   "cell_type": "markdown",
   "metadata": {
    "slideshow": {
     "slide_type": "subslide"
    }
   },
   "source": [
    "### Exercise 2\n",
    "\n",
    "Modify your pipeline script so that it takes the sample ID as an argument.\n",
    "\n",
    "The sample ID is part of the original filenames: filename = \"ERR2868172_1.fastq.gz\" => sample id = ERR2868172"
   ]
  },
  {
   "cell_type": "markdown",
   "metadata": {
    "slideshow": {
     "slide_type": "subslide"
    }
   },
   "source": [
    "### Control structures in the shell\n",
    "\n",
    "Control structures are statements in programming languages that control the flow of the program depending on the outcome of certain conditions."
   ]
  },
  {
   "cell_type": "markdown",
   "metadata": {
    "slideshow": {
     "slide_type": "subslide"
    }
   },
   "source": [
    "### The \"if\" control structure\n",
    "\n",
    "\"if\" allows us to take one action or another depending on the result of a condition."
   ]
  },
  {
   "cell_type": "code",
   "execution_count": 29,
   "metadata": {},
   "outputs": [
    {
     "name": "stdout",
     "output_type": "stream",
     "text": [
      "1 is not equal to 10\n"
     ]
    }
   ],
   "source": [
    "a=1\n",
    "b=10\n",
    "\n",
    "if [ \"$a\" -eq \"$b\" ]\n",
    "then\n",
    "    echo \"$a is equal to $b\"\n",
    "else\n",
    "    echo \"$a is not equal to $b\"\n",
    "fi"
   ]
  },
  {
   "cell_type": "markdown",
   "metadata": {},
   "source": [
    "In this case, we are comparing a and b for equality (-eq). Other possible numerical comparison operators are greater than (-gt), less than (-lt), and not equal to (-ne)."
   ]
  },
  {
   "cell_type": "markdown",
   "metadata": {
    "slideshow": {
     "slide_type": "subslide"
    }
   },
   "source": [
    "### Exercise 3\n",
    "\n",
    "Modify your pipeline so that it prints usage information **and exits** if there is no input argument.\n",
    "\n",
    "HINTS:\n",
    "\n",
    "- Usage information messages are tipically formatted as \"Usage: myscript.py myarg\"\n",
    "- You can force the script to exit with an error by adding the command \"exit 1\".\n",
    "- You can test how many input arguments were passed by seeing if the special variable for the number of arguments, \"$#\", is equal to 1."
   ]
  },
  {
   "cell_type": "markdown",
   "metadata": {
    "slideshow": {
     "slide_type": "subslide"
    }
   },
   "source": [
    "### The \"for\" control structure\n",
    "\n",
    "\"for\" allows you to loop parts of your script for different values of a variable."
   ]
  },
  {
   "cell_type": "code",
   "execution_count": 43,
   "metadata": {},
   "outputs": [
    {
     "name": "stdout",
     "output_type": "stream",
     "text": [
      "Hi, my name is Erwin\n",
      "Hi, my name is Max\n",
      "Hi, my name is Rosalind\n",
      "Hi, my name is Marie\n"
     ]
    }
   ],
   "source": [
    "for name in {Erwin,Max,Rosalind,Marie}\n",
    "do\n",
    "    echo Hi, my name is $name\n",
    "done"
   ]
  },
  {
   "cell_type": "code",
   "execution_count": 45,
   "metadata": {},
   "outputs": [
    {
     "name": "stdout",
     "output_type": "stream",
     "text": [
      "sample001\n",
      "sample002\n",
      "sample003\n",
      "sample004\n",
      "sample005\n"
     ]
    }
   ],
   "source": [
    "for i in {001..005}\n",
    "do\n",
    "    echo sample$i\n",
    "done"
   ]
  },
  {
   "cell_type": "markdown",
   "metadata": {
    "slideshow": {
     "slide_type": "subslide"
    }
   },
   "source": [
    "### Control structures in the command line\n",
    "\n",
    "Any shell command that lives in a script can also be used in the command line. The challenge is that you input things one line at a time, and long scripts can become complicated really quickly.\n",
    "\n",
    "Some control structures are very useful though. As an example, let's see how we could use \"for\" to loop copy all our subsampled files to the \"/tmp/datafiles\" directory."
   ]
  },
  {
   "cell_type": "code",
   "execution_count": 6,
   "metadata": {},
   "outputs": [
    {
     "name": "stdout",
     "output_type": "stream",
     "text": [
      "\u001b[0m\u001b[01;31mERR2868172_1.fastq.gz\u001b[0m  \u001b[01;31mERR2868173_1.fastq.gz\u001b[0m  \u001b[01;31mERR2868174_1.fastq.gz\u001b[0m\n",
      "\u001b[01;31mERR2868172_2.fastq.gz\u001b[0m  \u001b[01;31mERR2868173_2.fastq.gz\u001b[0m  \u001b[01;31mERR2868174_2.fastq.gz\u001b[0m\n"
     ]
    }
   ],
   "source": [
    "cd $WD\n",
    "mkdir /tmp/datafiles\n",
    "for file in data/*.fastq.gz; do cp $file /tmp/datafiles/; done;\n",
    "ls /tmp/datafiles"
   ]
  },
  {
   "cell_type": "markdown",
   "metadata": {
    "slideshow": {
     "slide_type": "subslide"
    }
   },
   "source": [
    "### Exercise 4\n",
    "\n",
    "Write a command line for loop that generates all sample ids from your data and executes your pipeline for each of them."
   ]
  },
  {
   "cell_type": "code",
   "execution_count": 7,
   "metadata": {
    "slideshow": {
     "slide_type": "subslide"
    }
   },
   "outputs": [
    {
     "name": "stdout",
     "output_type": "stream",
     "text": [
      "ERR2868172\n",
      "ERR2868173\n",
      "ERR2868174\n"
     ]
    }
   ],
   "source": [
    "for sample in $(ls data/*.fastq.gz | cut -d\"_\" -f1 | sed \"s:data/::\" | sort | uniq); do echo $sample; done;"
   ]
  },
  {
   "cell_type": "markdown",
   "metadata": {
    "slideshow": {
     "slide_type": "subslide"
    }
   },
   "source": [
    "### Exercise 5\n",
    "\n",
    "Use the loop in the previous exercise to run your pipeline for all your samples."
   ]
  },
  {
   "cell_type": "markdown",
   "metadata": {
    "slideshow": {
     "slide_type": "subslide"
    }
   },
   "source": [
    "### Exercise 6\n",
    "\n",
    "Create a new script that uses a loop like the one in the previous exercise to run your pipeline script for all your samples.\n",
    "\n",
    "See about moving the genome indexing code to this parent script, so that it is not run for every sample.\n",
    "\n",
    "In addition, have the parent script run MultiQC after processing the samples, to generate the final report."
   ]
  }
 ],
 "metadata": {
  "celltoolbar": "Slideshow",
  "kernelspec": {
   "display_name": "Bash",
   "language": "bash",
   "name": "bash"
  },
  "language_info": {
   "codemirror_mode": "shell",
   "file_extension": ".sh",
   "mimetype": "text/x-sh",
   "name": "bash"
  }
 },
 "nbformat": 4,
 "nbformat_minor": 2
}
